{
 "cells": [
  {
   "cell_type": "code",
   "execution_count": 74,
   "metadata": {
    "collapsed": false
   },
   "outputs": [],
   "source": [
    "import pandas as pd\n",
    "import numpy as np\n",
    "import pickle\n",
    "from functools import reduce\n",
    "import warnings\n",
    "import matplotlib.pyplot as plt\n",
    "import seaborn as sns\n",
    "from sklearn.pipeline import make_pipeline\n",
    "from sklearn.preprocessing import PolynomialFeatures\n",
    "from sklearn.preprocessing import OneHotEncoder\n",
    "from sklearn.model_selection import train_test_split\n",
    "from sklearn.model_selection import KFold\n",
    "from sklearn.linear_model import LinearRegression\n",
    "from sklearn.metrics import mean_squared_error\n",
    "from sklearn.linear_model import Ridge\n",
    "from sklearn.linear_model import Lasso\n",
    "from sklearn.linear_model import ElasticNet\n",
    "from sklearn.linear_model import RidgeCV\n",
    "from sklearn import preprocessing\n",
    "import patsy\n",
    "\n",
    "import statsmodels.api as sm\n",
    "import statsmodels.formula.api as smf\n",
    "from scipy import stats\n",
    "import patsy\n",
    "\n",
    "%matplotlib inline\n",
    "warnings.filterwarnings('ignore')"
   ]
  },
  {
   "cell_type": "markdown",
   "metadata": {},
   "source": [
    "## Load the Data"
   ]
  },
  {
   "cell_type": "code",
   "execution_count": 75,
   "metadata": {
    "collapsed": true
   },
   "outputs": [],
   "source": [
    "stat_types = (['base_stats', 'adv_hitting_stats', 'plate_disc_stats', 'fielding_stats',\n",
    "               'adv_fielding_stats', 'value_stats', 'win_prob_stats', 'bb_stats'])"
   ]
  },
  {
   "cell_type": "code",
   "execution_count": 76,
   "metadata": {
    "collapsed": true
   },
   "outputs": [],
   "source": [
    "def load_data_frame(stat_type):\n",
    "    filename = 'hitting_' + stat_type + '3.pkl'\n",
    "    with open(filename, 'rb') as picklefile:\n",
    "        data = pickle.load(picklefile)\n",
    "    return data"
   ]
  },
  {
   "cell_type": "code",
   "execution_count": 77,
   "metadata": {
    "collapsed": false
   },
   "outputs": [
    {
     "name": "stdout",
     "output_type": "stream",
     "text": [
      "(39416, 20) base_stats\n",
      "(53528, 17) adv_hitting_stats\n",
      "(34216, 9) plate_disc_stats\n",
      "(55604, 20) fielding_stats\n",
      "(40709, 22) adv_fielding_stats\n",
      "(18444, 12) value_stats\n",
      "(20928, 10) win_prob_stats\n",
      "(15642, 14) bb_stats\n"
     ]
    }
   ],
   "source": [
    "df_dict = {}\n",
    "for stat_type in stat_types:\n",
    "    df = load_data_frame(stat_type)\n",
    "    df.index.name = 'Player'\n",
    "    df_dict[stat_type] = df\n",
    "    print(df_dict[stat_type].shape, stat_type)"
   ]
  },
  {
   "cell_type": "markdown",
   "metadata": {},
   "source": [
    "**Group data by player/season/team**"
   ]
  },
  {
   "cell_type": "code",
   "execution_count": 78,
   "metadata": {
    "collapsed": true
   },
   "outputs": [],
   "source": [
    "dfs = []\n",
    "for k in df_dict.keys():\n",
    "    df1 = df_dict[k]\n",
    "    df1 = df1.reset_index().set_index(['Player', 'Season', 'Team'])\n",
    "\n",
    "    dfs.append(df1)\n",
    "    \n",
    "full_df = reduce(lambda left,right: left.join(right), dfs)\n"
   ]
  },
  {
   "cell_type": "code",
   "execution_count": 79,
   "metadata": {
    "collapsed": false
   },
   "outputs": [
    {
     "data": {
      "text/plain": [
       "(36796, 124)"
      ]
     },
     "execution_count": 79,
     "metadata": {},
     "output_type": "execute_result"
    }
   ],
   "source": [
    "first_df = full_df.reset_index().groupby(['Player', 'Season', 'Team']).first()\n",
    "first_df.shape"
   ]
  },
  {
   "cell_type": "code",
   "execution_count": 80,
   "metadata": {
    "collapsed": true
   },
   "outputs": [],
   "source": [
    "team_list = (['Blue Jays', 'Orioles', 'Rays', 'Red Sox', 'Yankees', 'Indians', 'Royals', 'Tigers',\n",
    "        'Twins', 'White Sox', 'Angels', 'Astros', 'Athletics', 'Mariners', 'Rangers', 'Braves',\n",
    "         'Marlins', 'Mets', 'Nationals', 'Phillies', 'Brewers', 'Cardinals', 'Cubs', 'Pirates',\n",
    "         'Reds', 'D-backs', 'Dodgers', 'Giants', 'Padres', 'Rockies'])"
   ]
  },
  {
   "cell_type": "code",
   "execution_count": 81,
   "metadata": {
    "collapsed": true
   },
   "outputs": [],
   "source": [
    "# Filter out minor league and miscellaneous non-team rows\n",
    "pro_df = first_df[first_df.index.get_level_values(2).isin(team_list)]"
   ]
  },
  {
   "cell_type": "markdown",
   "metadata": {},
   "source": [
    "Create columns for the next season, which will serve as our outputs."
   ]
  },
  {
   "cell_type": "code",
   "execution_count": 82,
   "metadata": {
    "collapsed": true
   },
   "outputs": [],
   "source": [
    "pro_df['next_avg'] = pro_df[('base_stats', 'AVG')].groupby(pro_df.index.get_level_values(0)).shift(-1)\n",
    "pro_df['next_slg'] = pro_df[('adv_hitting_stats', 'SLG')].groupby(pro_df.index.get_level_values(0)).shift(-1)\n",
    "pro_df['next_ops'] = pro_df[('adv_hitting_stats', 'OPS')].groupby(pro_df.index.get_level_values(0)).shift(-1)\n",
    "pro_df['next_ab'] = pro_df[('base_stats', 'AB')].groupby(pro_df.index.get_level_values(0)).shift(-1)"
   ]
  },
  {
   "cell_type": "code",
   "execution_count": 83,
   "metadata": {
    "collapsed": false
   },
   "outputs": [
    {
     "data": {
      "text/plain": [
       "Player      Season  Team   \n",
       "A.J. Ellis  2008    Dodgers    .100\n",
       "            2009    Dodgers    .278\n",
       "            2010    Dodgers    .271\n",
       "            2011    Dodgers    .270\n",
       "            2012    Dodgers    .238\n",
       "Name: next_avg, dtype: object"
      ]
     },
     "execution_count": 83,
     "metadata": {},
     "output_type": "execute_result"
    }
   ],
   "source": [
    "pro_df['next_avg'].head(5)"
   ]
  },
  {
   "cell_type": "markdown",
   "metadata": {},
   "source": [
    "Find the team the player is on during the season we're predicting."
   ]
  },
  {
   "cell_type": "code",
   "execution_count": 84,
   "metadata": {
    "collapsed": true
   },
   "outputs": [],
   "source": [
    "pro_df['next_team'] = pro_df.index.get_level_values(2)\n",
    "pro_df['next_team'] = pro_df['next_team'].groupby(pro_df.index.get_level_values(0)).shift(-1)"
   ]
  },
  {
   "cell_type": "code",
   "execution_count": null,
   "metadata": {
    "collapsed": true
   },
   "outputs": [],
   "source": []
  },
  {
   "cell_type": "markdown",
   "metadata": {},
   "source": [
    "## Clean and Format the Data"
   ]
  },
  {
   "cell_type": "code",
   "execution_count": 85,
   "metadata": {
    "collapsed": true
   },
   "outputs": [],
   "source": [
    "def percent_to_float(column):\n",
    "    for i in range(column.shape[0]) :\n",
    "        if column[i] == '\\xa0':\n",
    "            column[i] = np.nan\n",
    "        #print(pro_df[('bb_stats', 'Hard%')][i])\n",
    "    #pro_df = pro_df[pd.to_numeric(pro_df.index.get_level_values(1)) > 2001].dropna()\n",
    "    return column.map(lambda x: float(str(x).strip().replace('%', ''))/100.)"
   ]
  },
  {
   "cell_type": "code",
   "execution_count": 86,
   "metadata": {
    "collapsed": true
   },
   "outputs": [],
   "source": [
    "def diff_column(df, column, index_level):\n",
    "    return column.groupby(df.index.get_level_values(index_level)).diff()"
   ]
  },
  {
   "cell_type": "code",
   "execution_count": 87,
   "metadata": {
    "collapsed": true
   },
   "outputs": [],
   "source": [
    "# Filter out pre-2002 when BB_stats began\n",
    "pro_df = pro_df[pd.to_numeric(pro_df.index.get_level_values(1)) > 2008].dropna()\n",
    "#pro_df = pro_df[pd.to_numeric(pro_df.index.get_level_values(1)) < 2008].dropna()"
   ]
  },
  {
   "cell_type": "code",
   "execution_count": 88,
   "metadata": {
    "collapsed": false
   },
   "outputs": [
    {
     "data": {
      "text/html": [
       "<div>\n",
       "<table border=\"1\" class=\"dataframe\">\n",
       "  <thead>\n",
       "    <tr style=\"text-align: right;\">\n",
       "      <th></th>\n",
       "      <th></th>\n",
       "      <th></th>\n",
       "      <th>(base_stats, G)</th>\n",
       "      <th>(base_stats, AB)</th>\n",
       "      <th>(base_stats, PA)</th>\n",
       "      <th>(base_stats, H)</th>\n",
       "      <th>(base_stats, 1B)</th>\n",
       "      <th>(base_stats, 2B)</th>\n",
       "      <th>(base_stats, 3B)</th>\n",
       "      <th>(base_stats, HR)</th>\n",
       "      <th>(base_stats, R)</th>\n",
       "      <th>(base_stats, RBI)</th>\n",
       "      <th>...</th>\n",
       "      <th>(bb_stats, Cent%)</th>\n",
       "      <th>(bb_stats, Oppo%)</th>\n",
       "      <th>(bb_stats, Soft%)</th>\n",
       "      <th>(bb_stats, Med%)</th>\n",
       "      <th>(bb_stats, Hard%)</th>\n",
       "      <th>next_avg</th>\n",
       "      <th>next_slg</th>\n",
       "      <th>next_ops</th>\n",
       "      <th>next_ab</th>\n",
       "      <th>next_team</th>\n",
       "    </tr>\n",
       "    <tr>\n",
       "      <th>Player</th>\n",
       "      <th>Season</th>\n",
       "      <th>Team</th>\n",
       "      <th></th>\n",
       "      <th></th>\n",
       "      <th></th>\n",
       "      <th></th>\n",
       "      <th></th>\n",
       "      <th></th>\n",
       "      <th></th>\n",
       "      <th></th>\n",
       "      <th></th>\n",
       "      <th></th>\n",
       "      <th></th>\n",
       "      <th></th>\n",
       "      <th></th>\n",
       "      <th></th>\n",
       "      <th></th>\n",
       "      <th></th>\n",
       "      <th></th>\n",
       "      <th></th>\n",
       "      <th></th>\n",
       "      <th></th>\n",
       "      <th></th>\n",
       "    </tr>\n",
       "  </thead>\n",
       "  <tbody>\n",
       "    <tr>\n",
       "      <th rowspan=\"5\" valign=\"top\">A.J. Ellis</th>\n",
       "      <th>2009</th>\n",
       "      <th>Dodgers</th>\n",
       "      <td>8</td>\n",
       "      <td>10</td>\n",
       "      <td>10</td>\n",
       "      <td>1</td>\n",
       "      <td>1</td>\n",
       "      <td>0</td>\n",
       "      <td>0</td>\n",
       "      <td>0</td>\n",
       "      <td>0</td>\n",
       "      <td>1</td>\n",
       "      <td>...</td>\n",
       "      <td>44.4 %</td>\n",
       "      <td>22.2 %</td>\n",
       "      <td>33.3 %</td>\n",
       "      <td>55.6 %</td>\n",
       "      <td>11.1 %</td>\n",
       "      <td>.278</td>\n",
       "      <td>.324</td>\n",
       "      <td>.687</td>\n",
       "      <td>108</td>\n",
       "      <td>Dodgers</td>\n",
       "    </tr>\n",
       "    <tr>\n",
       "      <th>2010</th>\n",
       "      <th>Dodgers</th>\n",
       "      <td>44</td>\n",
       "      <td>108</td>\n",
       "      <td>128</td>\n",
       "      <td>30</td>\n",
       "      <td>25</td>\n",
       "      <td>5</td>\n",
       "      <td>0</td>\n",
       "      <td>0</td>\n",
       "      <td>6</td>\n",
       "      <td>16</td>\n",
       "      <td>...</td>\n",
       "      <td>44.2 %</td>\n",
       "      <td>27.4 %</td>\n",
       "      <td>27.4 %</td>\n",
       "      <td>48.4 %</td>\n",
       "      <td>24.2 %</td>\n",
       "      <td>.271</td>\n",
       "      <td>.376</td>\n",
       "      <td>.769</td>\n",
       "      <td>85</td>\n",
       "      <td>Dodgers</td>\n",
       "    </tr>\n",
       "    <tr>\n",
       "      <th>2011</th>\n",
       "      <th>Dodgers</th>\n",
       "      <td>31</td>\n",
       "      <td>85</td>\n",
       "      <td>103</td>\n",
       "      <td>23</td>\n",
       "      <td>19</td>\n",
       "      <td>1</td>\n",
       "      <td>1</td>\n",
       "      <td>2</td>\n",
       "      <td>8</td>\n",
       "      <td>11</td>\n",
       "      <td>...</td>\n",
       "      <td>32.9 %</td>\n",
       "      <td>25.7 %</td>\n",
       "      <td>12.9 %</td>\n",
       "      <td>58.6 %</td>\n",
       "      <td>28.6 %</td>\n",
       "      <td>.270</td>\n",
       "      <td>.414</td>\n",
       "      <td>.786</td>\n",
       "      <td>423</td>\n",
       "      <td>Dodgers</td>\n",
       "    </tr>\n",
       "    <tr>\n",
       "      <th>2012</th>\n",
       "      <th>Dodgers</th>\n",
       "      <td>133</td>\n",
       "      <td>423</td>\n",
       "      <td>505</td>\n",
       "      <td>114</td>\n",
       "      <td>80</td>\n",
       "      <td>20</td>\n",
       "      <td>1</td>\n",
       "      <td>13</td>\n",
       "      <td>44</td>\n",
       "      <td>52</td>\n",
       "      <td>...</td>\n",
       "      <td>37.7 %</td>\n",
       "      <td>30.1 %</td>\n",
       "      <td>14.4 %</td>\n",
       "      <td>57.4 %</td>\n",
       "      <td>28.2 %</td>\n",
       "      <td>.238</td>\n",
       "      <td>.364</td>\n",
       "      <td>.682</td>\n",
       "      <td>390</td>\n",
       "      <td>Dodgers</td>\n",
       "    </tr>\n",
       "    <tr>\n",
       "      <th>2013</th>\n",
       "      <th>Dodgers</th>\n",
       "      <td>115</td>\n",
       "      <td>390</td>\n",
       "      <td>448</td>\n",
       "      <td>93</td>\n",
       "      <td>65</td>\n",
       "      <td>17</td>\n",
       "      <td>1</td>\n",
       "      <td>10</td>\n",
       "      <td>43</td>\n",
       "      <td>52</td>\n",
       "      <td>...</td>\n",
       "      <td>40.7 %</td>\n",
       "      <td>27.6 %</td>\n",
       "      <td>14.6 %</td>\n",
       "      <td>49.7 %</td>\n",
       "      <td>35.7 %</td>\n",
       "      <td>.191</td>\n",
       "      <td>.254</td>\n",
       "      <td>.577</td>\n",
       "      <td>283</td>\n",
       "      <td>Dodgers</td>\n",
       "    </tr>\n",
       "  </tbody>\n",
       "</table>\n",
       "<p>5 rows × 129 columns</p>\n",
       "</div>"
      ],
      "text/plain": [
       "                          (base_stats, G) (base_stats, AB) (base_stats, PA)  \\\n",
       "Player     Season Team                                                        \n",
       "A.J. Ellis 2009   Dodgers               8               10               10   \n",
       "           2010   Dodgers              44              108              128   \n",
       "           2011   Dodgers              31               85              103   \n",
       "           2012   Dodgers             133              423              505   \n",
       "           2013   Dodgers             115              390              448   \n",
       "\n",
       "                          (base_stats, H) (base_stats, 1B) (base_stats, 2B)  \\\n",
       "Player     Season Team                                                        \n",
       "A.J. Ellis 2009   Dodgers               1                1                0   \n",
       "           2010   Dodgers              30               25                5   \n",
       "           2011   Dodgers              23               19                1   \n",
       "           2012   Dodgers             114               80               20   \n",
       "           2013   Dodgers              93               65               17   \n",
       "\n",
       "                          (base_stats, 3B) (base_stats, HR) (base_stats, R)  \\\n",
       "Player     Season Team                                                        \n",
       "A.J. Ellis 2009   Dodgers                0                0               0   \n",
       "           2010   Dodgers                0                0               6   \n",
       "           2011   Dodgers                1                2               8   \n",
       "           2012   Dodgers                1               13              44   \n",
       "           2013   Dodgers                1               10              43   \n",
       "\n",
       "                          (base_stats, RBI)    ...    (bb_stats, Cent%)  \\\n",
       "Player     Season Team                         ...                        \n",
       "A.J. Ellis 2009   Dodgers                 1    ...               44.4 %   \n",
       "           2010   Dodgers                16    ...               44.2 %   \n",
       "           2011   Dodgers                11    ...               32.9 %   \n",
       "           2012   Dodgers                52    ...               37.7 %   \n",
       "           2013   Dodgers                52    ...               40.7 %   \n",
       "\n",
       "                          (bb_stats, Oppo%) (bb_stats, Soft%)  \\\n",
       "Player     Season Team                                          \n",
       "A.J. Ellis 2009   Dodgers            22.2 %            33.3 %   \n",
       "           2010   Dodgers            27.4 %            27.4 %   \n",
       "           2011   Dodgers            25.7 %            12.9 %   \n",
       "           2012   Dodgers            30.1 %            14.4 %   \n",
       "           2013   Dodgers            27.6 %            14.6 %   \n",
       "\n",
       "                          (bb_stats, Med%) (bb_stats, Hard%) next_avg  \\\n",
       "Player     Season Team                                                  \n",
       "A.J. Ellis 2009   Dodgers           55.6 %            11.1 %     .278   \n",
       "           2010   Dodgers           48.4 %            24.2 %     .271   \n",
       "           2011   Dodgers           58.6 %            28.6 %     .270   \n",
       "           2012   Dodgers           57.4 %            28.2 %     .238   \n",
       "           2013   Dodgers           49.7 %            35.7 %     .191   \n",
       "\n",
       "                          next_slg next_ops next_ab next_team  \n",
       "Player     Season Team                                         \n",
       "A.J. Ellis 2009   Dodgers     .324     .687     108   Dodgers  \n",
       "           2010   Dodgers     .376     .769      85   Dodgers  \n",
       "           2011   Dodgers     .414     .786     423   Dodgers  \n",
       "           2012   Dodgers     .364     .682     390   Dodgers  \n",
       "           2013   Dodgers     .254     .577     283   Dodgers  \n",
       "\n",
       "[5 rows x 129 columns]"
      ]
     },
     "execution_count": 88,
     "metadata": {},
     "output_type": "execute_result"
    }
   ],
   "source": [
    "pro_df.head(5)"
   ]
  },
  {
   "cell_type": "code",
   "execution_count": 89,
   "metadata": {
    "collapsed": true
   },
   "outputs": [],
   "source": [
    "# Conver percent columns to floats\n",
    "#percent_cols = ['Hard%', 'LD%', 'GB%', 'FB%', 'IFFB%', 'IFH%', 'BUH%', 'Pull%', 'Cent%', 'Oppo%', 'Soft%', 'Med%']\n",
    "pro_df[('bb_stats', 'Hard%')] = percent_to_float(pro_df[('bb_stats', 'Hard%')])\n",
    "pro_df.loc[:, ('bb_stats', 'Med%')] = percent_to_float(pro_df[('bb_stats', 'Med%')])\n",
    "pro_df.loc[:, ('bb_stats', 'LD%')] = percent_to_float(pro_df[('bb_stats', 'LD%')])\n",
    "pro_df.loc[:, ('bb_stats', 'GB%')] = percent_to_float(pro_df[('bb_stats', 'GB%')])\n",
    "pro_df.loc[:, ('bb_stats', 'FB%')] = percent_to_float(pro_df[('bb_stats', 'FB%')])\n",
    "pro_df.loc[:, ('bb_stats', 'IFFB%')] = percent_to_float(pro_df[('bb_stats', 'IFFB%')])\n",
    "pro_df.loc[:, ('bb_stats', 'IFH%')] = percent_to_float(pro_df[('bb_stats', 'IFH%')])\n",
    "pro_df.loc[:, ('bb_stats', 'BUH%')] = percent_to_float(pro_df[('bb_stats', 'BUH%')])\n",
    "pro_df.loc[:, ('bb_stats', 'Pull%')] = percent_to_float(pro_df[('bb_stats', 'Pull%')])\n",
    "pro_df.loc[:, ('bb_stats', 'Cent%')] = percent_to_float(pro_df[('bb_stats', 'Cent%')])\n",
    "pro_df.loc[:, ('bb_stats', 'Oppo%')] = percent_to_float(pro_df[('bb_stats', 'Oppo%')])\n",
    "pro_df.loc[:, ('bb_stats', 'Soft%')] = percent_to_float(pro_df[('bb_stats', 'Soft%')])\n",
    "pro_df.loc[:, ('bb_stats', 'HR/FB')] = percent_to_float(pro_df[('bb_stats', 'HR/FB')])\n",
    "pro_df.loc[:, ('adv_hitting_stats', 'K%')] = percent_to_float(pro_df[('adv_hitting_stats', 'K%')])\n",
    "pro_df.loc[:, ('plate_disc_stats', 'O-Swing%')] = percent_to_float(pro_df[('plate_disc_stats', 'O-Swing%')])\n",
    "pro_df.loc[:, ('plate_disc_stats', 'Z-Swing%')] = percent_to_float(pro_df[('plate_disc_stats', 'Z-Swing%')])\n",
    "pro_df.loc[:, ('plate_disc_stats', 'Swing%')] = percent_to_float(pro_df[('plate_disc_stats', 'Swing%')])\n",
    "pro_df.loc[:, ('plate_disc_stats', 'O-Contact%')] = percent_to_float(pro_df[('plate_disc_stats', 'O-Contact%')])\n",
    "pro_df.loc[:, ('plate_disc_stats', 'Z-Contact%')] = percent_to_float(pro_df[('plate_disc_stats', 'Z-Contact%')])\n",
    "pro_df.loc[:, ('plate_disc_stats', 'Zone%')] = percent_to_float(pro_df[('plate_disc_stats', 'Zone%')])\n",
    "pro_df.loc[:, ('plate_disc_stats', 'Contact%')] = percent_to_float(pro_df[('plate_disc_stats', 'Contact%')])\n",
    "pro_df.loc[:, ('plate_disc_stats', 'F-Strike%')] = percent_to_float(pro_df[('plate_disc_stats', 'F-Strike%')])\n",
    "pro_df.loc[:, ('plate_disc_stats', 'SwStr%')] = percent_to_float(pro_df[('plate_disc_stats', 'SwStr%')])\n"
   ]
  },
  {
   "cell_type": "code",
   "execution_count": 90,
   "metadata": {
    "collapsed": false
   },
   "outputs": [
    {
     "data": {
      "text/plain": [
       "(4268, 129)"
      ]
     },
     "execution_count": 90,
     "metadata": {},
     "output_type": "execute_result"
    }
   ],
   "source": [
    "pro_df.shape"
   ]
  },
  {
   "cell_type": "code",
   "execution_count": 325,
   "metadata": {
    "collapsed": true
   },
   "outputs": [],
   "source": [
    "# Filter by At bats greater than 350\n",
    "filtered_abs = pro_df[pd.to_numeric(first_df[('base_stats', 'AB')]) > 350]\n",
    "filtered_abs = filtered_abs[pd.to_numeric(pro_df['next_ab']) > 350]"
   ]
  },
  {
   "cell_type": "code",
   "execution_count": 326,
   "metadata": {
    "collapsed": false
   },
   "outputs": [
    {
     "data": {
      "text/plain": [
       "(890, 129)"
      ]
     },
     "execution_count": 326,
     "metadata": {},
     "output_type": "execute_result"
    }
   ],
   "source": [
    "filtered_abs.shape"
   ]
  },
  {
   "cell_type": "code",
   "execution_count": 327,
   "metadata": {
    "collapsed": true
   },
   "outputs": [],
   "source": [
    "# Do not include Total rows\n",
    "filtered_abs = filtered_abs[filtered_abs.index.get_level_values(1) != 'Total']"
   ]
  },
  {
   "cell_type": "code",
   "execution_count": 328,
   "metadata": {
    "collapsed": true
   },
   "outputs": [],
   "source": [
    "# Drop Adam Eaton and Chris Young because their data was messed up\n",
    "filtered_abs = filtered_abs[filtered_abs.index.get_level_values(0) != 'Adam Eaton']\n",
    "filtered_abs = filtered_abs[filtered_abs.index.get_level_values(0) != 'Chris Young']\n"
   ]
  },
  {
   "cell_type": "code",
   "execution_count": 329,
   "metadata": {
    "collapsed": true
   },
   "outputs": [],
   "source": [
    "filtered_abs_post_2001 = filtered_abs"
   ]
  },
  {
   "cell_type": "code",
   "execution_count": 330,
   "metadata": {
    "collapsed": true
   },
   "outputs": [],
   "source": [
    "filtered_abs_post_2001[('bb_stats', 'Hard_diff')] = diff_column(filtered_abs_post_2001, filtered_abs_post_2001[('bb_stats', 'Hard%')], 0)\n",
    "filtered_abs_post_2001[('bb_stats', 'Med_diff')] = diff_column(filtered_abs_post_2001, filtered_abs_post_2001[('bb_stats', 'Med%')], 0)\n",
    "filtered_abs_post_2001[('bb_stats', 'LD_diff')] = diff_column(filtered_abs_post_2001, filtered_abs_post_2001[('bb_stats', 'LD%')], 0)\n",
    "filtered_abs_post_2001[('bb_stats', 'GB_diff')] = diff_column(filtered_abs_post_2001, filtered_abs_post_2001[('bb_stats', 'GB%')], 0)\n",
    "filtered_abs_post_2001[('bb_stats', 'FB_diff')] = diff_column(filtered_abs_post_2001, filtered_abs_post_2001[('bb_stats', 'FB%')], 0)\n",
    "filtered_abs_post_2001[('bb_stats', 'IFFB_diff')] = diff_column(filtered_abs_post_2001, filtered_abs_post_2001[('bb_stats', 'IFFB%')], 0)\n",
    "filtered_abs_post_2001[('bb_stats', 'IFH_diff')] = diff_column(filtered_abs_post_2001, filtered_abs_post_2001[('bb_stats', 'IFH%')], 0)\n",
    "filtered_abs_post_2001[('bb_stats', 'BUH_diff')] = diff_column(filtered_abs_post_2001, filtered_abs_post_2001[('bb_stats', 'BUH%')], 0)\n",
    "filtered_abs_post_2001[('bb_stats', 'Pull_diff')] = diff_column(filtered_abs_post_2001, filtered_abs_post_2001[('bb_stats', 'Pull%')], 0)\n",
    "filtered_abs_post_2001[('bb_stats', 'Cent_diff')] = diff_column(filtered_abs_post_2001, filtered_abs_post_2001[('bb_stats', 'Cent%')], 0)\n",
    "filtered_abs_post_2001[('bb_stats', 'Oppo_diff')] = diff_column(filtered_abs_post_2001, filtered_abs_post_2001[('bb_stats', 'Oppo%')], 0)\n",
    "filtered_abs_post_2001[('bb_stats', 'Soft_diff')] = diff_column(filtered_abs_post_2001, filtered_abs_post_2001[('bb_stats', 'Soft%')], 0)\n",
    "filtered_abs_post_2001[('bb_stats', 'HR/FB_diff')] = diff_column(filtered_abs_post_2001, filtered_abs_post_2001[('bb_stats', 'HR/FB')], 0)\n",
    "filtered_abs_post_2001[('adv_hitting_stats', 'K_per_diff')] = diff_column(filtered_abs_post_2001, filtered_abs_post_2001[('adv_hitting_stats', 'K%')], 0)\n",
    "filtered_abs_post_2001[('base_stats', 'avg_diff')] = diff_column(filtered_abs_post_2001, (filtered_abs_post_2001[('base_stats', 'AVG')]).astype(float), 0)\n"
   ]
  },
  {
   "cell_type": "code",
   "execution_count": 331,
   "metadata": {
    "collapsed": false
   },
   "outputs": [
    {
     "data": {
      "text/plain": [
       "Player           Season  Team     \n",
       "A.J. Ellis       2012    Dodgers      .238\n",
       "A.J. Pierzynski  2009    White Sox    .270\n",
       "                 2010    White Sox    .287\n",
       "                 2011    White Sox    .278\n",
       "                 2012    White Sox    .272\n",
       "Name: next_avg, dtype: object"
      ]
     },
     "execution_count": 331,
     "metadata": {},
     "output_type": "execute_result"
    }
   ],
   "source": [
    "filtered_abs_post_2001['next_avg'].head(5)"
   ]
  },
  {
   "cell_type": "code",
   "execution_count": 332,
   "metadata": {
    "collapsed": true
   },
   "outputs": [],
   "source": [
    "for c in filtered_abs_post_2001.columns:\n",
    "    if c[0:4] != 'next':\n",
    "        filtered_abs_post_2001 = filtered_abs_post_2001.rename(columns={c: str(c[0] + '_' + c[1])})"
   ]
  },
  {
   "cell_type": "markdown",
   "metadata": {},
   "source": [
    "## Try Out Some Engineered Features"
   ]
  },
  {
   "cell_type": "code",
   "execution_count": 333,
   "metadata": {
    "collapsed": true
   },
   "outputs": [],
   "source": [
    "filtered_abs_post_2001['extreme_pull'] = (filtered_abs_post_2001['bb_stats_Pull%'] > .45).astype(float)"
   ]
  },
  {
   "cell_type": "code",
   "execution_count": 334,
   "metadata": {
    "collapsed": true
   },
   "outputs": [],
   "source": [
    "filtered_abs_post_2001['sprayer'] = (abs(filtered_abs_post_2001['bb_stats_Pull%'] - filtered_abs_post_2001['bb_stats_Oppo%']) < .1).astype(float)"
   ]
  },
  {
   "cell_type": "code",
   "execution_count": 335,
   "metadata": {
    "collapsed": true
   },
   "outputs": [],
   "source": [
    "filtered_abs_post_2001['hh_contact'] = filtered_abs_post_2001['bb_stats_Hard%'] * filtered_abs_post_2001['plate_disc_stats_Contact%']"
   ]
  },
  {
   "cell_type": "code",
   "execution_count": 336,
   "metadata": {
    "collapsed": true
   },
   "outputs": [],
   "source": [
    "filtered_abs_post_2001['fb%_hr/fb'] = filtered_abs_post_2001['bb_stats_FB%'] * filtered_abs_post_2001['bb_stats_HR/FB']"
   ]
  },
  {
   "cell_type": "code",
   "execution_count": 337,
   "metadata": {
    "collapsed": true
   },
   "outputs": [],
   "source": [
    "filtered_abs_post_2001['hard_med'] = (2 * filtered_abs_post_2001['bb_stats_Hard%']) + (.5 * filtered_abs_post_2001['bb_stats_Med%'])"
   ]
  },
  {
   "cell_type": "code",
   "execution_count": 338,
   "metadata": {
    "collapsed": true
   },
   "outputs": [],
   "source": [
    "filtered_abs_post_2001['extreme_high_soft'] = (filtered_abs_post_2001['bb_stats_Soft%'] > .25).astype(float)"
   ]
  },
  {
   "cell_type": "code",
   "execution_count": 339,
   "metadata": {
    "collapsed": true
   },
   "outputs": [],
   "source": [
    "filtered_abs_post_2001['extreme_ifh'] = (filtered_abs_post_2001['bb_stats_IFH%'] > .105).astype(float)"
   ]
  },
  {
   "cell_type": "code",
   "execution_count": 340,
   "metadata": {
    "collapsed": true
   },
   "outputs": [],
   "source": [
    "filtered_abs_post_2001['extreme_low_soft'] = (filtered_abs_post_2001['bb_stats_Soft%'] < .135).astype(float)"
   ]
  },
  {
   "cell_type": "code",
   "execution_count": 341,
   "metadata": {
    "collapsed": true
   },
   "outputs": [],
   "source": [
    "#filtered_abs_post_2001['swing_med'] = (2 * filtered_abs_post_2001['bb_stats_Hard%']) + (.5 * filtered_abs_post_2001['bb_stats_Med%'])"
   ]
  },
  {
   "cell_type": "code",
   "execution_count": 342,
   "metadata": {
    "collapsed": true
   },
   "outputs": [],
   "source": [
    "filtered_abs_post_2001['hh_contact_swing'] = filtered_abs_post_2001['bb_stats_Hard%'] * filtered_abs_post_2001['plate_disc_stats_Contact%'] * filtered_abs_post_2001['plate_disc_stats_Swing%'] "
   ]
  },
  {
   "cell_type": "code",
   "execution_count": 343,
   "metadata": {
    "collapsed": true
   },
   "outputs": [],
   "source": [
    "filtered_abs_post_2001['hard_med_contact_swing'] = filtered_abs_post_2001['hard_med'] * filtered_abs_post_2001['plate_disc_stats_Contact%'] * filtered_abs_post_2001['plate_disc_stats_Swing%'] "
   ]
  },
  {
   "cell_type": "code",
   "execution_count": 344,
   "metadata": {
    "collapsed": true
   },
   "outputs": [],
   "source": [
    "filtered_abs_post_2001['hh_babip'] = filtered_abs_post_2001['bb_stats_Hard%'] / filtered_abs_post_2001['adv_hitting_stats_BABIP'].astype('float')"
   ]
  },
  {
   "cell_type": "code",
   "execution_count": 345,
   "metadata": {
    "collapsed": true
   },
   "outputs": [],
   "source": [
    "filtered_abs_post_2001['pull_fb'] = filtered_abs_post_2001['bb_stats_Pull%'] / filtered_abs_post_2001['bb_stats_FB%'].astype('float')"
   ]
  },
  {
   "cell_type": "code",
   "execution_count": 346,
   "metadata": {
    "collapsed": true
   },
   "outputs": [],
   "source": [
    "filtered_abs_post_2001['hard_ld'] = filtered_abs_post_2001['bb_stats_Hard%'] / filtered_abs_post_2001['bb_stats_LD%'].astype('float')"
   ]
  },
  {
   "cell_type": "code",
   "execution_count": 347,
   "metadata": {
    "collapsed": true
   },
   "outputs": [],
   "source": [
    "feature_cols = (['adv_hitting_stats_K%', 'bb_stats_LD%', 'bb_stats_FB%', 'bb_stats_GB/FB', 'bb_stats_IFFB%', 'bb_stats_HR/FB',\n",
    "                 'bb_stats_IFH%', 'bb_stats_Cent%', 'bb_stats_Oppo%', 'bb_stats_Soft%', 'bb_stats_Hard%', \n",
    "                 'bb_stats_Hard_diff', 'plate_disc_stats_Swing%', 'bb_stats_Pull%',\n",
    "                 'plate_disc_stats_O-Contact%', 'plate_disc_stats_Z-Contact%',\n",
    "                 'plate_disc_stats_Zone%', 'adv_hitting_stats_Spd', 'extreme_pull', \n",
    "                 'sprayer', 'hh_contact', 'fb%_hr/fb', 'hard_med', 'extreme_low_soft', 'extreme_high_soft',\n",
    "                 'extreme_ifh', 'hh_contact_swing', 'hard_med_contact_swing', 'hh_babip', 'pull_fb', 'hard_ld'])"
   ]
  },
  {
   "cell_type": "code",
   "execution_count": 368,
   "metadata": {
    "collapsed": false
   },
   "outputs": [],
   "source": [
    "clean = filtered_abs_post_2001.dropna()"
   ]
  },
  {
   "cell_type": "code",
   "execution_count": 369,
   "metadata": {
    "collapsed": false
   },
   "outputs": [],
   "source": [
    "base = clean.loc[:, []]"
   ]
  },
  {
   "cell_type": "code",
   "execution_count": 370,
   "metadata": {
    "collapsed": false
   },
   "outputs": [],
   "source": [
    "# The baseline value we are trying to beat\n",
    "X_baseline = clean['base_stats_AVG']\n",
    "X_baseline;"
   ]
  },
  {
   "cell_type": "code",
   "execution_count": 372,
   "metadata": {
    "collapsed": false
   },
   "outputs": [
    {
     "data": {
      "text/plain": [
       "(570,)"
      ]
     },
     "execution_count": 372,
     "metadata": {},
     "output_type": "execute_result"
    }
   ],
   "source": [
    "# The output\n",
    "y = clean.loc[:, 'next_avg']\n",
    "y = y.astype('float')\n",
    "y.shape"
   ]
  },
  {
   "cell_type": "code",
   "execution_count": 352,
   "metadata": {
    "collapsed": false
   },
   "outputs": [],
   "source": [
    "def find_best_predictor(current, predictors, y):\n",
    "    best_p = 0\n",
    "    model_ps = []\n",
    "    while best_p < .005:\n",
    "        p = []\n",
    "        curr_cols = ['next_team']\n",
    "        for pred in predictors:\n",
    "            cols = curr_cols[:]\n",
    "            cols.append(pred)\n",
    "            X = clean.loc[:, cols]\n",
    "            #X.iloc[:, 1:] = X.iloc[:, 1:].astype('float')\n",
    "            team = patsy.dmatrix('next_team',\n",
    "                             data=X,\n",
    "                             return_type='dataframe')\n",
    "            X.drop(['next_team'], axis=1, inplace=True)\n",
    "            X = X.astype('float')\n",
    "            X = X.join(team)\n",
    "            X2 = sm.add_constant(X)\n",
    "            est = sm.OLS(y, X2)\n",
    "            est2 = est.fit()\n",
    "            p.append((pred, est2.pvalues[0]))\n",
    "        ps = sorted(p, key=lambda x: x[1])\n",
    "        print(ps[0])\n",
    "        best_p = ps[0][1]\n",
    "        if best_p < .005:\n",
    "            curr_cols.append(ps[0][0])\n",
    "            model_ps.append(ps[0][0])\n",
    "            predictors.pop(predictors.index(ps[0][0]))\n",
    "    return model_ps"
   ]
  },
  {
   "cell_type": "code",
   "execution_count": 353,
   "metadata": {
    "collapsed": false
   },
   "outputs": [
    {
     "name": "stdout",
     "output_type": "stream",
     "text": [
      "('adv_hitting_stats_K%', 9.8065391499412859e-20)\n",
      "('plate_disc_stats_O-Contact%', 5.4209624024068604e-15)\n",
      "('plate_disc_stats_Z-Contact%', 6.2473202543327559e-13)\n",
      "('bb_stats_Pull%', 7.3046661515408208e-13)\n",
      "('bb_stats_FB%', 7.3841587832054108e-12)\n",
      "('extreme_pull', 1.2593275600410226e-11)\n",
      "('bb_stats_Oppo%', 1.8100945541499313e-09)\n",
      "('bb_stats_GB/FB', 1.4909286350876595e-07)\n",
      "('bb_stats_Cent%', 1.980239699910894e-07)\n",
      "('hard_med_contact_swing', 4.6715349760684683e-07)\n",
      "('bb_stats_IFFB%', 3.1686365762722556e-06)\n",
      "('fb%_hr/fb', 1.9620628974535563e-05)\n",
      "('hh_babip', 0.00026689259666065862)\n",
      "('bb_stats_LD%', 0.00060763721748065117)\n",
      "('sprayer', 0.0009292119200967245)\n",
      "('hh_contact_swing', 0.0022842946119204194)\n",
      "('hard_ld', 0.0024677048143271537)\n",
      "('hh_contact', 0.029280208751018288)\n"
     ]
    }
   ],
   "source": [
    "best_cols = find_best_predictor([], feature_cols, y)"
   ]
  },
  {
   "cell_type": "code",
   "execution_count": 354,
   "metadata": {
    "collapsed": false
   },
   "outputs": [
    {
     "data": {
      "text/plain": [
       "<matplotlib.axes._subplots.AxesSubplot at 0x1297f3358>"
      ]
     },
     "execution_count": 354,
     "metadata": {},
     "output_type": "execute_result"
    },
    {
     "data": {
      "image/png": "[encoded data removed]",
      "text/plain": [
       "<matplotlib.figure.Figure at 0x129818198>"
      ]
     },
     "metadata": {},
     "output_type": "display_data"
    }
   ],
   "source": [
    "sns.heatmap(X.iloc[:, :len(best_cols)].corr())\n"
   ]
  },
  {
   "cell_type": "code",
   "execution_count": 355,
   "metadata": {
    "collapsed": true
   },
   "outputs": [],
   "source": [
    "best_cols.append('next_team')"
   ]
  },
  {
   "cell_type": "code",
   "execution_count": 356,
   "metadata": {
    "collapsed": true
   },
   "outputs": [],
   "source": [
    "X = clean.loc[:, best_cols]"
   ]
  },
  {
   "cell_type": "code",
   "execution_count": 357,
   "metadata": {
    "collapsed": false
   },
   "outputs": [],
   "source": [
    "team = patsy.dmatrix('next_team',\n",
    "                     data=X,\n",
    "                     return_type='dataframe')"
   ]
  },
  {
   "cell_type": "code",
   "execution_count": 358,
   "metadata": {
    "collapsed": true
   },
   "outputs": [],
   "source": [
    "X.drop(['next_team'], axis=1, inplace=True)\n",
    "\n",
    "X = X.join(team)"
   ]
  },
  {
   "cell_type": "code",
   "execution_count": 359,
   "metadata": {
    "collapsed": false
   },
   "outputs": [
    {
     "name": "stdout",
     "output_type": "stream",
     "text": [
      "[ -1.58588179e-01   2.51607501e-02   7.97245297e-02  -9.69442697e-01\n",
      "  -7.39405912e-02  -8.51692727e-03  -8.39102000e-01  -6.17608746e-03\n",
      "  -9.65675299e-01  -4.36378469e-01  -1.39746981e-01   2.16727559e-01\n",
      "  -2.32842448e-02  -2.19539728e-01  -1.08684278e-02   1.33448804e+00\n",
      "  -2.16684616e-02  -2.81913382e-13   1.85297139e-02  -1.66025157e-02\n",
      "  -3.31998156e-03  -9.48827610e-03   6.38966096e-03   2.78170579e-03\n",
      "  -1.04878447e-02   2.51253045e-03   6.47630438e-03  -4.82326780e-03\n",
      "  -7.66319770e-03  -2.30209987e-04   4.14876357e-03   9.36097055e-05\n",
      "  -8.27345102e-03  -1.26085984e-02  -2.93221804e-03  -1.58410088e-03\n",
      "  -2.13329521e-03  -1.45778599e-02   2.36610600e-03  -1.48413769e-03\n",
      "   2.14762753e-02  -4.67276203e-03   2.08936554e-02  -9.20338695e-03\n",
      "  -4.05655465e-03  -5.63471010e-03]\n",
      "0.382743127958\n"
     ]
    },
    {
     "data": {
      "text/plain": [
       "<matplotlib.text.Text at 0x1285adbe0>"
      ]
     },
     "execution_count": 359,
     "metadata": {},
     "output_type": "execute_result"
    },
    {
     "data": {
      "image/png": "[encoded data removed]",
      "text/plain": [
       "<matplotlib.figure.Figure at 0x12986a4a8>"
      ]
     },
     "metadata": {},
     "output_type": "display_data"
    }
   ],
   "source": [
    "lr = LinearRegression()\n",
    "X_train, X_test, y_train, y_test = train_test_split(X, y, test_size=0.3)\n",
    "\n",
    "lr.fit(X_train, y_train)\n",
    "\n",
    "\n",
    "#print(actual)\n",
    "print(lr.coef_)\n",
    "print(lr.score(X,y))\n",
    "# plt.scatter(y_test.reset_index()['value_stats_WAR'].tolist(), (lr.predict(X_test)))\n",
    "# plt.scatter(y_test.reset_index()['base_stats_AVG'].tolist(), (lr.predict(X_test)))\n",
    "# plt.scatter(y_test.reset_index()['adv_hitting_stats_SLG'].tolist(), (lr.predict(X_test)))\n",
    "plt.scatter(y_test.reset_index()['next_avg'].tolist(), (lr.predict(X_test)))\n",
    "\n",
    "plt.plot([y.min(), y.max()], [y.min(), y.max()], 'k--', lw=4)\n",
    "plt.xlabel('Actual')\n",
    "plt.ylabel('Predicted')\n",
    "plt.title('Player Slugging Percentage: Actual vs. Predicted')\n",
    "#plt.scatter(X_test[X_test.columns[[3]]], y_test)\n",
    "#print(pd.DataFrame(y).join(lr.predict(y)))"
   ]
  },
  {
   "cell_type": "code",
   "execution_count": 360,
   "metadata": {
    "collapsed": false
   },
   "outputs": [
    {
     "name": "stdout",
     "output_type": "stream",
     "text": [
      "                                     prev      pred  actual  base_diff  \\\n",
      "Player            Season Team                                            \n",
      "Bryce Harper      2014   Nationals  0.273  0.264805   0.330     -0.057   \n",
      "Mike Napoli       2010   Angels     0.238  0.255156   0.320     -0.082   \n",
      "Russell Martin    2013   Pirates    0.226  0.232617   0.290     -0.064   \n",
      "Freddie Freeman   2012   Braves     0.259  0.263206   0.319     -0.060   \n",
      "Andrew McCutchen  2011   Pirates    0.259  0.271798   0.327     -0.068   \n",
      "Matt Kemp         2010   Dodgers    0.249  0.269735   0.324     -0.075   \n",
      "Michael Brantley  2013   Indians    0.284  0.274905   0.327     -0.043   \n",
      "Michael Young     2010   Rangers    0.284  0.286165   0.338     -0.054   \n",
      "Adrian Gonzalez   2010   Padres     0.298  0.286775   0.338     -0.040   \n",
      "Carlos Ruiz       2011   Phillies   0.283  0.275431   0.325     -0.042   \n",
      "Brian Dozier      2015   Twins      0.236  0.220218   0.268     -0.032   \n",
      "Joey Votto        2011   Reds       0.309  0.289256   0.337     -0.028   \n",
      "Melky Cabrera     2011   Royals     0.305  0.299593   0.346     -0.041   \n",
      "Giancarlo Stanton 2013   Marlins    0.249  0.242110   0.288     -0.039   \n",
      "Alex Rios         2011   White Sox  0.227  0.258318   0.304     -0.077   \n",
      "Torii Hunter      2011   Angels     0.262  0.267351   0.313     -0.051   \n",
      "Jose Altuve       2013   Astros     0.283  0.295923   0.341     -0.058   \n",
      "Nelson Cruz       2014   Orioles    0.271  0.257005   0.302     -0.031   \n",
      "Andrew McCutchen  2013   Pirates    0.317  0.269101   0.314      0.003   \n",
      "Lorenzo Cain      2014   Royals     0.301  0.262446   0.307     -0.006   \n",
      "Starling Marte    2015   Pirates    0.287  0.268045   0.311     -0.024   \n",
      "Daniel Murphy     2015   Mets       0.281  0.304389   0.347     -0.066   \n",
      "Ian Desmond       2015   Nationals  0.233  0.244322   0.285     -0.052   \n",
      "Joey Votto        2015   Reds       0.314  0.286301   0.326     -0.012   \n",
      "Andrew McCutchen  2012   Pirates    0.327  0.277332   0.317      0.010   \n",
      "Joe Mauer         2012   Twins      0.319  0.285096   0.324     -0.005   \n",
      "Eric Hosmer       2012   Royals     0.232  0.263348   0.302     -0.070   \n",
      "Josh Willingham   2011   Athletics  0.246  0.222061   0.260     -0.014   \n",
      "Freddie Freeman   2015   Braves     0.276  0.264211   0.302     -0.026   \n",
      "Carlos Beltran    2012   Cardinals  0.269  0.258432   0.296     -0.027   \n",
      "...                                   ...       ...     ...        ...   \n",
      "Russell Martin    2012   Yankees    0.211  0.264293   0.226     -0.015   \n",
      "Ichiro Suzuki     2014   Yankees    0.284  0.267355   0.229      0.055   \n",
      "Jay Bruce         2013   Reds       0.262  0.255586   0.217      0.045   \n",
      "Drew Stubbs       2011   Reds       0.243  0.253339   0.213      0.030   \n",
      "Nick Swisher      2013   Indians    0.246  0.248665   0.208      0.038   \n",
      "Lyle Overbay      2010   Blue Jays  0.243  0.268780   0.227      0.016   \n",
      "Colby Rasmus      2015   Astros     0.238  0.248693   0.206      0.032   \n",
      "Pablo Sandoval    2014   Giants     0.279  0.288151   0.245      0.034   \n",
      "Jason Heyward     2015   Cardinals  0.293  0.274023   0.230      0.063   \n",
      "Vernon Wells      2010   Blue Jays  0.273  0.262537   0.218      0.055   \n",
      "Omar Infante      2014   Royals     0.252  0.265288   0.220      0.032   \n",
      "Rickie Weeks Jr.  2011   Brewers    0.269  0.275803   0.230      0.039   \n",
      "Ty Wigginton      2010   Orioles    0.248  0.288396   0.242      0.006   \n",
      "Melvin Upton Jr.  2012   Rays       0.246  0.231195   0.184      0.062   \n",
      "Danny Espinosa    2015   Nationals  0.240  0.257098   0.209      0.031   \n",
      "Allen Craig       2013   Cardinals  0.315  0.285395   0.237      0.078   \n",
      "Mark Teixeira     2015   Yankees    0.255  0.253668   0.204      0.051   \n",
      "Michael Cuddyer   2011   Twins      0.284  0.310461   0.260      0.024   \n",
      "David Murphy      2012   Rangers    0.304  0.270973   0.220      0.084   \n",
      "Brendan Ryan      2011   Mariners   0.248  0.245695   0.194      0.054   \n",
      "Mike Napoli       2011   Rangers    0.320  0.283076   0.227      0.093   \n",
      "Casey Kotchman    2011   Rays       0.306  0.285125   0.229      0.077   \n",
      "Darwin Barney     2012   Cubs       0.254  0.264997   0.208      0.046   \n",
      "Chris Davis       2013   Orioles    0.286  0.254954   0.196      0.090   \n",
      "Derek Norris      2015   Padres     0.250  0.248913   0.186      0.064   \n",
      "Adam LaRoche      2014   Nationals  0.259  0.270083   0.207      0.052   \n",
      "Casey McGehee     2010   Brewers    0.285  0.286777   0.223      0.062   \n",
      "Brennan Boesch    2011   Tigers     0.283  0.305775   0.240      0.043   \n",
      "Adam Dunn         2010   Nationals  0.260  0.236902   0.159      0.101   \n",
      "Victor Martinez   2014   Tigers     0.335  0.323893   0.245      0.090   \n",
      "\n",
      "                                        diff  \n",
      "Player            Season Team                 \n",
      "Bryce Harper      2014   Nationals -0.065195  \n",
      "Mike Napoli       2010   Angels    -0.064844  \n",
      "Russell Martin    2013   Pirates   -0.057383  \n",
      "Freddie Freeman   2012   Braves    -0.055794  \n",
      "Andrew McCutchen  2011   Pirates   -0.055202  \n",
      "Matt Kemp         2010   Dodgers   -0.054265  \n",
      "Michael Brantley  2013   Indians   -0.052095  \n",
      "Michael Young     2010   Rangers   -0.051835  \n",
      "Adrian Gonzalez   2010   Padres    -0.051225  \n",
      "Carlos Ruiz       2011   Phillies  -0.049569  \n",
      "Brian Dozier      2015   Twins     -0.047782  \n",
      "Joey Votto        2011   Reds      -0.047744  \n",
      "Melky Cabrera     2011   Royals    -0.046407  \n",
      "Giancarlo Stanton 2013   Marlins   -0.045890  \n",
      "Alex Rios         2011   White Sox -0.045682  \n",
      "Torii Hunter      2011   Angels    -0.045649  \n",
      "Jose Altuve       2013   Astros    -0.045077  \n",
      "Nelson Cruz       2014   Orioles   -0.044995  \n",
      "Andrew McCutchen  2013   Pirates   -0.044899  \n",
      "Lorenzo Cain      2014   Royals    -0.044554  \n",
      "Starling Marte    2015   Pirates   -0.042955  \n",
      "Daniel Murphy     2015   Mets      -0.042611  \n",
      "Ian Desmond       2015   Nationals -0.040678  \n",
      "Joey Votto        2015   Reds      -0.039699  \n",
      "Andrew McCutchen  2012   Pirates   -0.039668  \n",
      "Joe Mauer         2012   Twins     -0.038904  \n",
      "Eric Hosmer       2012   Royals    -0.038652  \n",
      "Josh Willingham   2011   Athletics -0.037939  \n",
      "Freddie Freeman   2015   Braves    -0.037789  \n",
      "Carlos Beltran    2012   Cardinals -0.037568  \n",
      "...                                      ...  \n",
      "Russell Martin    2012   Yankees    0.038293  \n",
      "Ichiro Suzuki     2014   Yankees    0.038355  \n",
      "Jay Bruce         2013   Reds       0.038586  \n",
      "Drew Stubbs       2011   Reds       0.040339  \n",
      "Nick Swisher      2013   Indians    0.040665  \n",
      "Lyle Overbay      2010   Blue Jays  0.041780  \n",
      "Colby Rasmus      2015   Astros     0.042693  \n",
      "Pablo Sandoval    2014   Giants     0.043151  \n",
      "Jason Heyward     2015   Cardinals  0.044023  \n",
      "Vernon Wells      2010   Blue Jays  0.044537  \n",
      "Omar Infante      2014   Royals     0.045288  \n",
      "Rickie Weeks Jr.  2011   Brewers    0.045803  \n",
      "Ty Wigginton      2010   Orioles    0.046396  \n",
      "Melvin Upton Jr.  2012   Rays       0.047195  \n",
      "Danny Espinosa    2015   Nationals  0.048098  \n",
      "Allen Craig       2013   Cardinals  0.048395  \n",
      "Mark Teixeira     2015   Yankees    0.049668  \n",
      "Michael Cuddyer   2011   Twins      0.050461  \n",
      "David Murphy      2012   Rangers    0.050973  \n",
      "Brendan Ryan      2011   Mariners   0.051695  \n",
      "Mike Napoli       2011   Rangers    0.056076  \n",
      "Casey Kotchman    2011   Rays       0.056125  \n",
      "Darwin Barney     2012   Cubs       0.056997  \n",
      "Chris Davis       2013   Orioles    0.058954  \n",
      "Derek Norris      2015   Padres     0.062913  \n",
      "Adam LaRoche      2014   Nationals  0.063083  \n",
      "Casey McGehee     2010   Brewers    0.063777  \n",
      "Brennan Boesch    2011   Tigers     0.065775  \n",
      "Adam Dunn         2010   Nationals  0.077902  \n",
      "Victor Martinez   2014   Tigers     0.078893  \n",
      "\n",
      "[570 rows x 5 columns]\n"
     ]
    }
   ],
   "source": [
    "#print(X)\n",
    "Results = pd.DataFrame(X).copy()\n",
    "pred = lr.predict(X)\n",
    "#print((pred))\n",
    "#print(pd.DataFrame(Results))\n",
    "Results['prev'] = filtered_abs_post_2001['base_stats_AVG'].astype('float')\n",
    "Results['pred'] = pred\n",
    "Results['actual'] = y\n",
    "Results['base_diff'] = Results['prev'] - Results['actual']\n",
    "Results['diff'] = Results['pred'] - Results['actual']\n",
    "print(Results.loc[:, 'prev' : 'diff'].sort_values(by='diff'))\n"
   ]
  },
  {
   "cell_type": "code",
   "execution_count": 361,
   "metadata": {
    "collapsed": false
   },
   "outputs": [
    {
     "name": "stdout",
     "output_type": "stream",
     "text": [
      "0.420736359019\n"
     ]
    },
    {
     "data": {
      "text/plain": [
       "<matplotlib.text.Text at 0x128357b38>"
      ]
     },
     "execution_count": 361,
     "metadata": {},
     "output_type": "execute_result"
    },
    {
     "data": {
      "image/png": "[encoded data removed]",
      "text/plain": [
       "<matplotlib.figure.Figure at 0x12a36a5c0>"
      ]
     },
     "metadata": {},
     "output_type": "display_data"
    }
   ],
   "source": [
    "from sklearn.linear_model import RidgeCV\n",
    "rcv = RidgeCV(cv=5)\n",
    "rcv.fit(X, y)\n",
    "print(rcv.score(X_test, y_test))\n",
    "ridge_coeffs = rcv.coef_\n",
    "\n",
    "plt.figure(figsize=(6,6))\n",
    "plt.scatter(y_test.reset_index()['next_avg'].tolist(), (lr.predict(X_test)))\n",
    "\n",
    "plt.plot([y.min(), y.max()], [y.min(), y.max()], 'k--', lw=4)\n",
    "plt.xlabel('Actual')\n",
    "plt.ylabel('Predicted')\n",
    "plt.title('Player Slugging Percentage: Actual vs. Predicted')"
   ]
  },
  {
   "cell_type": "code",
   "execution_count": 362,
   "metadata": {
    "collapsed": false
   },
   "outputs": [
    {
     "data": {
      "text/plain": [
       "[<matplotlib.axis.XTick at 0x128338dd8>,\n",
       " <matplotlib.axis.XTick at 0x1297be0f0>,\n",
       " <matplotlib.axis.XTick at 0x128336b70>,\n",
       " <matplotlib.axis.XTick at 0x12831d748>,\n",
       " <matplotlib.axis.XTick at 0x12831c748>,\n",
       " <matplotlib.axis.XTick at 0x12831b9b0>,\n",
       " <matplotlib.axis.XTick at 0x12831e710>,\n",
       " <matplotlib.axis.XTick at 0x128319a90>,\n",
       " <matplotlib.axis.XTick at 0x128318e10>,\n",
       " <matplotlib.axis.XTick at 0x128318240>,\n",
       " <matplotlib.axis.XTick at 0x128318550>,\n",
       " <matplotlib.axis.XTick at 0x12831dfd0>,\n",
       " <matplotlib.axis.XTick at 0x128336d30>,\n",
       " <matplotlib.axis.XTick at 0x128317278>,\n",
       " <matplotlib.axis.XTick at 0x1283169b0>,\n",
       " <matplotlib.axis.XTick at 0x1283158d0>,\n",
       " <matplotlib.axis.XTick at 0x128314780>,\n",
       " <matplotlib.axis.XTick at 0x128313550>]"
      ]
     },
     "execution_count": 362,
     "metadata": {},
     "output_type": "execute_result"
    },
    {
     "data": {
      "image/png": "[encoded data removed]",
      "text/plain": [
       "<matplotlib.figure.Figure at 0x128363320>"
      ]
     },
     "metadata": {},
     "output_type": "display_data"
    }
   ],
   "source": [
    "fig,ax = plt.subplots()\n",
    "ax.bar(range(len(ridge_coeffs[0:len(best_cols)])), ridge_coeffs[0:len(best_cols)])\n",
    "ax.set_xticklabels(list(X.columns)[0:len(best_cols)], rotation=90)\n",
    "ax.xaxis.set_ticks(range(len(best_cols)))\n"
   ]
  },
  {
   "cell_type": "code",
   "execution_count": 373,
   "metadata": {
    "collapsed": false
   },
   "outputs": [
    {
     "name": "stdout",
     "output_type": "stream",
     "text": [
      "                                         pred  actual  base_diff      diff\n",
      "Player             Season Team                                            \n",
      "Bryce Harper       2014   Nationals  0.267660   0.330     -0.057 -0.062340\n",
      "Mike Napoli        2010   Angels     0.259189   0.320     -0.082 -0.060811\n",
      "Andrew McCutchen   2011   Pirates    0.267497   0.327     -0.068 -0.059503\n",
      "Melky Cabrera      2011   Royals     0.289373   0.346     -0.041 -0.056627\n",
      "Matt Kemp          2010   Dodgers    0.268670   0.324     -0.075 -0.055330\n",
      "Alex Rios          2011   White Sox  0.249388   0.304     -0.077 -0.054612\n",
      "Carlos Ruiz        2011   Phillies   0.272757   0.325     -0.042 -0.052243\n",
      "Joey Votto         2011   Reds       0.285438   0.337     -0.028 -0.051562\n",
      "Torii Hunter       2011   Angels     0.262343   0.313     -0.051 -0.050657\n",
      "Michael Brantley   2013   Indians    0.276844   0.327     -0.043 -0.050156\n",
      "Freddie Freeman    2012   Braves     0.269356   0.319     -0.060 -0.049644\n",
      "Adrian Gonzalez    2010   Padres     0.289147   0.338     -0.040 -0.048853\n",
      "Nelson Cruz        2014   Orioles    0.256382   0.302     -0.031 -0.045618\n",
      "Michael Young      2010   Rangers    0.292464   0.338     -0.054 -0.045536\n",
      "Ryan Braun         2010   Brewers    0.286573   0.332     -0.028 -0.045427\n",
      "Russell Martin     2013   Pirates    0.245165   0.290     -0.064 -0.044835\n",
      "Lorenzo Cain       2014   Royals     0.262176   0.307     -0.006 -0.044824\n",
      "Jose Altuve        2015   Astros     0.293711   0.338     -0.025 -0.044289\n",
      "Paul Konerko       2010   White Sox  0.255715   0.300      0.012 -0.044285\n",
      "Daniel Murphy      2015   Mets       0.303761   0.347     -0.066 -0.043239\n",
      "Paul Konerko       2011   White Sox  0.254862   0.298      0.002 -0.043138\n",
      "Jose Altuve        2013   Astros     0.298234   0.341     -0.058 -0.042766\n",
      "Joe Mauer          2012   Twins      0.281522   0.324     -0.005 -0.042478\n",
      "Giancarlo Stanton  2013   Marlins    0.245689   0.288     -0.039 -0.042311\n",
      "Brian Dozier       2015   Twins      0.225839   0.268     -0.032 -0.042161\n",
      "Joey Votto         2015   Reds       0.284080   0.326     -0.012 -0.041920\n",
      "Mike Trout         2015   Angels     0.273610   0.315     -0.016 -0.041390\n",
      "Andrew McCutchen   2013   Pirates    0.273225   0.314      0.003 -0.040775\n",
      "Mike Trout         2014   Angels     0.259133   0.299     -0.012 -0.039867\n",
      "Derek Jeter        2011   Yankees    0.276217   0.316     -0.019 -0.039783\n",
      "...                                       ...     ...        ...       ...\n",
      "Dan Uggla          2012   Braves     0.216273   0.179      0.041  0.037273\n",
      "Alcides Escobar    2012   Royals     0.271562   0.234      0.059  0.037562\n",
      "Shin-Soo Choo      2013   Reds       0.280239   0.242      0.043  0.038239\n",
      "Ichiro Suzuki      2014   Yankees    0.267314   0.229      0.055  0.038314\n",
      "Russell Martin     2012   Yankees    0.265598   0.226     -0.015  0.039598\n",
      "Jayson Werth       2010   Phillies   0.271879   0.232      0.064  0.039879\n",
      "Jay Bruce          2013   Reds       0.259011   0.217      0.045  0.042011\n",
      "Casey Kotchman     2011   Rays       0.271200   0.229      0.077  0.042200\n",
      "Zack Cozart        2013   Reds       0.263785   0.221      0.033  0.042785\n",
      "Omar Infante       2014   Royals     0.263118   0.220      0.032  0.043118\n",
      "Lyle Overbay       2010   Blue Jays  0.271303   0.227      0.016  0.044303\n",
      "Adeiny Hechavarria 2015   Marlins    0.280325   0.236      0.045  0.044325\n",
      "Vernon Wells       2010   Blue Jays  0.262922   0.218      0.055  0.044922\n",
      "Brendan Ryan       2011   Mariners   0.240154   0.194      0.054  0.046154\n",
      "Ty Wigginton       2010   Orioles    0.289354   0.242      0.006  0.047354\n",
      "Mark Teixeira      2015   Yankees    0.251752   0.204      0.051  0.047752\n",
      "Mike Napoli        2011   Rangers    0.277507   0.227      0.093  0.050507\n",
      "Danny Espinosa     2015   Nationals  0.259515   0.209      0.031  0.050515\n",
      "Pablo Sandoval     2014   Giants     0.297369   0.245      0.034  0.052369\n",
      "Melvin Upton Jr.   2012   Rays       0.236464   0.184      0.062  0.052464\n",
      "Chris Davis        2013   Orioles    0.249006   0.196      0.090  0.053006\n",
      "Allen Craig        2013   Cardinals  0.291092   0.237      0.078  0.054092\n",
      "Adam LaRoche       2014   Nationals  0.261198   0.207      0.052  0.054198\n",
      "Derek Norris       2015   Padres     0.241001   0.186      0.064  0.055001\n",
      "Brennan Boesch     2011   Tigers     0.296211   0.240      0.043  0.056211\n",
      "David Murphy       2012   Rangers    0.279733   0.220      0.084  0.059733\n",
      "Casey McGehee      2010   Brewers    0.285391   0.223      0.062  0.062391\n",
      "Darwin Barney      2012   Cubs       0.275612   0.208      0.046  0.067612\n",
      "Victor Martinez    2014   Tigers     0.315649   0.245      0.090  0.070649\n",
      "Adam Dunn          2010   Nationals  0.230268   0.159      0.101  0.071268\n",
      "\n",
      "[570 rows x 4 columns]\n",
      "Model MSE: 0.000542185316574\n",
      "Copy MSE: 0.000905952631579\n"
     ]
    }
   ],
   "source": [
    "ResultsRCV = pd.DataFrame(X).copy()\n",
    "pred = rcv.predict(X)\n",
    "#print((pred))\n",
    "#print(pd.DataFrame(Results))\n",
    "ResultsRCV['prev'] = filtered_abs_post_2001['base_stats_AVG'].astype('float')\n",
    "ResultsRCV['pred'] = pred\n",
    "ResultsRCV['actual'] = y\n",
    "ResultsRCV['base_diff'] = ResultsRCV['prev'] - ResultsRCV['actual']\n",
    "\n",
    "ResultsRCV['diff'] = ResultsRCV['pred'] - ResultsRCV['actual']\n",
    "print(ResultsRCV.loc[:, 'pred' : 'diff'].sort_values(by='diff'))\n",
    "print('Model MSE: ' + str(sum(ResultsRCV['diff'] * ResultsRCV['diff'])/ResultsRCV['diff'].shape[0]))\n",
    "print('Copy MSE: ' + str(sum(ResultsRCV['base_diff'] * ResultsRCV['base_diff'])/ResultsRCV['base_diff'].shape[0]))\n"
   ]
  },
  {
   "cell_type": "code",
   "execution_count": 374,
   "metadata": {
    "collapsed": false
   },
   "outputs": [
    {
     "data": {
      "text/plain": [
       "0.4281113726655576"
      ]
     },
     "execution_count": 374,
     "metadata": {},
     "output_type": "execute_result"
    }
   ],
   "source": [
    "from sklearn.linear_model import ElasticNetCV\n",
    "encv = ElasticNetCV(cv=5)\n",
    "encv.fit(X, y)\n",
    "encv.score(X_test, y_test)"
   ]
  },
  {
   "cell_type": "code",
   "execution_count": 375,
   "metadata": {
    "collapsed": false
   },
   "outputs": [
    {
     "data": {
      "text/plain": [
       "0.42856917853841681"
      ]
     },
     "execution_count": 375,
     "metadata": {},
     "output_type": "execute_result"
    }
   ],
   "source": [
    "from sklearn.linear_model import LassoCV\n",
    "lcv = LassoCV(cv=5)\n",
    "lcv.fit(X, y)\n",
    "lcv.score(X_test, y_test)"
   ]
  },
  {
   "cell_type": "code",
   "execution_count": null,
   "metadata": {
    "collapsed": true
   },
   "outputs": [],
   "source": []
  }
 ],
 "metadata": {
  "anaconda-cloud": {},
  "kernelspec": {
   "display_name": "Python [conda env:metis_appy]",
   "language": "python",
   "name": "conda-env-metis_appy-py"
  },
  "language_info": {
   "codemirror_mode": {
    "name": "ipython",
    "version": 3
   },
   "file_extension": ".py",
   "mimetype": "text/x-python",
   "name": "python",
   "nbconvert_exporter": "python",
   "pygments_lexer": "ipython3",
   "version": "3.6.0"
  }
 },
 "nbformat": 4,
 "nbformat_minor": 1
}
