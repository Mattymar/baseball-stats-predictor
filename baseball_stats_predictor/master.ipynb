{
 "cells": [
  {
   "cell_type": "code",
   "execution_count": 128,
   "metadata": {
    "collapsed": false
   },
   "outputs": [],
   "source": [
    "import pandas as pd\n",
    "import numpy as np\n",
    "import pickle\n",
    "from functools import reduce\n",
    "import warnings\n",
    "import matplotlib.pyplot as plt\n",
    "import seaborn as sns\n",
    "from sklearn.pipeline import make_pipeline\n",
    "from sklearn.preprocessing import PolynomialFeatures\n",
    "from sklearn.preprocessing import OneHotEncoder\n",
    "from sklearn.model_selection import train_test_split\n",
    "from sklearn.model_selection import KFold\n",
    "from sklearn.linear_model import LinearRegression\n",
    "from sklearn.metrics import mean_squared_error\n",
    "from sklearn.linear_model import Ridge\n",
    "from sklearn.linear_model import Lasso\n",
    "from sklearn.linear_model import ElasticNet\n",
    "from sklearn.linear_model import RidgeCV\n",
    "from sklearn import preprocessing\n",
    "import patsy\n",
    "\n",
    "import statsmodels.api as sm\n",
    "import statsmodels.formula.api as smf\n",
    "from scipy import stats\n",
    "import patsy\n",
    "\n",
    "%matplotlib inline\n",
    "warnings.filterwarnings('ignore')"
   ]
  },
  {
   "cell_type": "markdown",
   "metadata": {},
   "source": [
    "## Load the Data"
   ]
  },
  {
   "cell_type": "code",
   "execution_count": 129,
   "metadata": {
    "collapsed": true
   },
   "outputs": [],
   "source": [
    "stat_types = (['base_stats', 'adv_hitting_stats', 'plate_disc_stats', 'fielding_stats',\n",
    "               'adv_fielding_stats', 'value_stats', 'win_prob_stats', 'bb_stats'])"
   ]
  },
  {
   "cell_type": "code",
   "execution_count": 130,
   "metadata": {
    "collapsed": true
   },
   "outputs": [],
   "source": [
    "def load_data_frame(stat_type):\n",
    "    filename = 'hitting_' + stat_type + '3.pkl'\n",
    "    with open(filename, 'rb') as picklefile:\n",
    "        data = pickle.load(picklefile)\n",
    "    return data"
   ]
  },
  {
   "cell_type": "code",
   "execution_count": 131,
   "metadata": {
    "collapsed": false
   },
   "outputs": [
    {
     "name": "stdout",
     "output_type": "stream",
     "text": [
      "(39416, 20) base_stats\n",
      "(53528, 17) adv_hitting_stats\n",
      "(34216, 9) plate_disc_stats\n",
      "(55604, 20) fielding_stats\n",
      "(40709, 22) adv_fielding_stats\n",
      "(18444, 12) value_stats\n",
      "(20928, 10) win_prob_stats\n",
      "(15642, 14) bb_stats\n"
     ]
    }
   ],
   "source": [
    "df_dict = {}\n",
    "for stat_type in stat_types:\n",
    "    df = load_data_frame(stat_type)\n",
    "    df.index.name = 'Player'\n",
    "    df_dict[stat_type] = df\n",
    "    print(df_dict[stat_type].shape, stat_type)"
   ]
  },
  {
   "cell_type": "markdown",
   "metadata": {},
   "source": [
    "**Group data by player/season/team**"
   ]
  },
  {
   "cell_type": "code",
   "execution_count": 132,
   "metadata": {
    "collapsed": true
   },
   "outputs": [],
   "source": [
    "dfs = []\n",
    "for k in df_dict.keys():\n",
    "    df1 = df_dict[k]\n",
    "    df1 = df1.reset_index().set_index(['Player', 'Season', 'Team'])\n",
    "\n",
    "    dfs.append(df1)\n",
    "    \n",
    "full_df = reduce(lambda left,right: left.join(right), dfs)\n"
   ]
  },
  {
   "cell_type": "code",
   "execution_count": 133,
   "metadata": {
    "collapsed": false
   },
   "outputs": [
    {
     "data": {
      "text/plain": [
       "(36796, 124)"
      ]
     },
     "execution_count": 133,
     "metadata": {},
     "output_type": "execute_result"
    }
   ],
   "source": [
    "first_df = full_df.reset_index().groupby(['Player', 'Season', 'Team']).first()\n",
    "first_df.shape"
   ]
  },
  {
   "cell_type": "code",
   "execution_count": 134,
   "metadata": {
    "collapsed": true
   },
   "outputs": [],
   "source": [
    "team_list = (['Blue Jays', 'Orioles', 'Rays', 'Red Sox', 'Yankees', 'Indians', 'Royals', 'Tigers',\n",
    "        'Twins', 'White Sox', 'Angels', 'Astros', 'Athletics', 'Mariners', 'Rangers', 'Braves',\n",
    "         'Marlins', 'Mets', 'Nationals', 'Phillies', 'Brewers', 'Cardinals', 'Cubs', 'Pirates',\n",
    "         'Reds', 'D-backs', 'Dodgers', 'Giants', 'Padres', 'Rockies'])"
   ]
  },
  {
   "cell_type": "code",
   "execution_count": 135,
   "metadata": {
    "collapsed": true
   },
   "outputs": [],
   "source": [
    "# Filter out minor league and miscellaneous non-team rows\n",
    "pro_df = first_df[first_df.index.get_level_values(2).isin(team_list)]"
   ]
  },
  {
   "cell_type": "markdown",
   "metadata": {},
   "source": [
    "Create columns for the next season, which will serve as our outputs."
   ]
  },
  {
   "cell_type": "code",
   "execution_count": 136,
   "metadata": {
    "collapsed": true
   },
   "outputs": [],
   "source": [
    "pro_df['next_avg'] = pro_df[('base_stats', 'AVG')].groupby(pro_df.index.get_level_values(0)).shift(-1)\n",
    "pro_df['next_slg'] = pro_df[('adv_hitting_stats', 'SLG')].groupby(pro_df.index.get_level_values(0)).shift(-1)\n",
    "pro_df['next_ops'] = pro_df[('adv_hitting_stats', 'OPS')].groupby(pro_df.index.get_level_values(0)).shift(-1)\n",
    "pro_df['next_ab'] = pro_df[('base_stats', 'AB')].groupby(pro_df.index.get_level_values(0)).shift(-1)"
   ]
  },
  {
   "cell_type": "code",
   "execution_count": 137,
   "metadata": {
    "collapsed": false
   },
   "outputs": [
    {
     "data": {
      "text/plain": [
       "Player      Season  Team   \n",
       "A.J. Ellis  2008    Dodgers    .100\n",
       "            2009    Dodgers    .278\n",
       "            2010    Dodgers    .271\n",
       "            2011    Dodgers    .270\n",
       "            2012    Dodgers    .238\n",
       "Name: next_avg, dtype: object"
      ]
     },
     "execution_count": 137,
     "metadata": {},
     "output_type": "execute_result"
    }
   ],
   "source": [
    "pro_df['next_avg'].head(5)"
   ]
  },
  {
   "cell_type": "markdown",
   "metadata": {},
   "source": [
    "Find the team the player is on during the season we're predicting."
   ]
  },
  {
   "cell_type": "code",
   "execution_count": 138,
   "metadata": {
    "collapsed": true
   },
   "outputs": [],
   "source": [
    "pro_df['next_team'] = pro_df.index.get_level_values(2)\n",
    "pro_df['next_team'] = pro_df['next_team'].groupby(pro_df.index.get_level_values(0)).shift(-1)"
   ]
  },
  {
   "cell_type": "code",
   "execution_count": null,
   "metadata": {
    "collapsed": true
   },
   "outputs": [],
   "source": []
  },
  {
   "cell_type": "markdown",
   "metadata": {},
   "source": [
    "## Clean and Format the Data"
   ]
  },
  {
   "cell_type": "code",
   "execution_count": 139,
   "metadata": {
    "collapsed": true
   },
   "outputs": [],
   "source": [
    "def percent_to_float(column):\n",
    "    for i in range(column.shape[0]) :\n",
    "        if column[i] == '\\xa0':\n",
    "            column[i] = np.nan\n",
    "        #print(pro_df[('bb_stats', 'Hard%')][i])\n",
    "    #pro_df = pro_df[pd.to_numeric(pro_df.index.get_level_values(1)) > 2001].dropna()\n",
    "    return column.map(lambda x: float(str(x).strip().replace('%', ''))/100.)"
   ]
  },
  {
   "cell_type": "code",
   "execution_count": 140,
   "metadata": {
    "collapsed": true
   },
   "outputs": [],
   "source": [
    "def diff_column(df, column, index_level):\n",
    "    return column.groupby(df.index.get_level_values(index_level)).diff()"
   ]
  },
  {
   "cell_type": "code",
   "execution_count": 141,
   "metadata": {
    "collapsed": true
   },
   "outputs": [],
   "source": [
    "# Filter out pre-2008 when BB_stats began\n",
    "pro_df = pro_df[pd.to_numeric(pro_df.index.get_level_values(1)) > 2008].dropna()\n",
    "#pro_df = pro_df[pd.to_numeric(pro_df.index.get_level_values(1)) < 2008].dropna()"
   ]
  },
  {
   "cell_type": "code",
   "execution_count": 142,
   "metadata": {
    "collapsed": false
   },
   "outputs": [
    {
     "data": {
      "text/html": [
       "<div>\n",
       "<table border=\"1\" class=\"dataframe\">\n",
       "  <thead>\n",
       "    <tr style=\"text-align: right;\">\n",
       "      <th></th>\n",
       "      <th></th>\n",
       "      <th></th>\n",
       "      <th>(base_stats, G)</th>\n",
       "      <th>(base_stats, AB)</th>\n",
       "      <th>(base_stats, PA)</th>\n",
       "      <th>(base_stats, H)</th>\n",
       "      <th>(base_stats, 1B)</th>\n",
       "      <th>(base_stats, 2B)</th>\n",
       "      <th>(base_stats, 3B)</th>\n",
       "      <th>(base_stats, HR)</th>\n",
       "      <th>(base_stats, R)</th>\n",
       "      <th>(base_stats, RBI)</th>\n",
       "      <th>...</th>\n",
       "      <th>(bb_stats, Cent%)</th>\n",
       "      <th>(bb_stats, Oppo%)</th>\n",
       "      <th>(bb_stats, Soft%)</th>\n",
       "      <th>(bb_stats, Med%)</th>\n",
       "      <th>(bb_stats, Hard%)</th>\n",
       "      <th>next_avg</th>\n",
       "      <th>next_slg</th>\n",
       "      <th>next_ops</th>\n",
       "      <th>next_ab</th>\n",
       "      <th>next_team</th>\n",
       "    </tr>\n",
       "    <tr>\n",
       "      <th>Player</th>\n",
       "      <th>Season</th>\n",
       "      <th>Team</th>\n",
       "      <th></th>\n",
       "      <th></th>\n",
       "      <th></th>\n",
       "      <th></th>\n",
       "      <th></th>\n",
       "      <th></th>\n",
       "      <th></th>\n",
       "      <th></th>\n",
       "      <th></th>\n",
       "      <th></th>\n",
       "      <th></th>\n",
       "      <th></th>\n",
       "      <th></th>\n",
       "      <th></th>\n",
       "      <th></th>\n",
       "      <th></th>\n",
       "      <th></th>\n",
       "      <th></th>\n",
       "      <th></th>\n",
       "      <th></th>\n",
       "      <th></th>\n",
       "    </tr>\n",
       "  </thead>\n",
       "  <tbody>\n",
       "    <tr>\n",
       "      <th rowspan=\"5\" valign=\"top\">A.J. Ellis</th>\n",
       "      <th>2009</th>\n",
       "      <th>Dodgers</th>\n",
       "      <td>8</td>\n",
       "      <td>10</td>\n",
       "      <td>10</td>\n",
       "      <td>1</td>\n",
       "      <td>1</td>\n",
       "      <td>0</td>\n",
       "      <td>0</td>\n",
       "      <td>0</td>\n",
       "      <td>0</td>\n",
       "      <td>1</td>\n",
       "      <td>...</td>\n",
       "      <td>44.4 %</td>\n",
       "      <td>22.2 %</td>\n",
       "      <td>33.3 %</td>\n",
       "      <td>55.6 %</td>\n",
       "      <td>11.1 %</td>\n",
       "      <td>.278</td>\n",
       "      <td>.324</td>\n",
       "      <td>.687</td>\n",
       "      <td>108</td>\n",
       "      <td>Dodgers</td>\n",
       "    </tr>\n",
       "    <tr>\n",
       "      <th>2010</th>\n",
       "      <th>Dodgers</th>\n",
       "      <td>44</td>\n",
       "      <td>108</td>\n",
       "      <td>128</td>\n",
       "      <td>30</td>\n",
       "      <td>25</td>\n",
       "      <td>5</td>\n",
       "      <td>0</td>\n",
       "      <td>0</td>\n",
       "      <td>6</td>\n",
       "      <td>16</td>\n",
       "      <td>...</td>\n",
       "      <td>44.2 %</td>\n",
       "      <td>27.4 %</td>\n",
       "      <td>27.4 %</td>\n",
       "      <td>48.4 %</td>\n",
       "      <td>24.2 %</td>\n",
       "      <td>.271</td>\n",
       "      <td>.376</td>\n",
       "      <td>.769</td>\n",
       "      <td>85</td>\n",
       "      <td>Dodgers</td>\n",
       "    </tr>\n",
       "    <tr>\n",
       "      <th>2011</th>\n",
       "      <th>Dodgers</th>\n",
       "      <td>31</td>\n",
       "      <td>85</td>\n",
       "      <td>103</td>\n",
       "      <td>23</td>\n",
       "      <td>19</td>\n",
       "      <td>1</td>\n",
       "      <td>1</td>\n",
       "      <td>2</td>\n",
       "      <td>8</td>\n",
       "      <td>11</td>\n",
       "      <td>...</td>\n",
       "      <td>32.9 %</td>\n",
       "      <td>25.7 %</td>\n",
       "      <td>12.9 %</td>\n",
       "      <td>58.6 %</td>\n",
       "      <td>28.6 %</td>\n",
       "      <td>.270</td>\n",
       "      <td>.414</td>\n",
       "      <td>.786</td>\n",
       "      <td>423</td>\n",
       "      <td>Dodgers</td>\n",
       "    </tr>\n",
       "    <tr>\n",
       "      <th>2012</th>\n",
       "      <th>Dodgers</th>\n",
       "      <td>133</td>\n",
       "      <td>423</td>\n",
       "      <td>505</td>\n",
       "      <td>114</td>\n",
       "      <td>80</td>\n",
       "      <td>20</td>\n",
       "      <td>1</td>\n",
       "      <td>13</td>\n",
       "      <td>44</td>\n",
       "      <td>52</td>\n",
       "      <td>...</td>\n",
       "      <td>37.7 %</td>\n",
       "      <td>30.1 %</td>\n",
       "      <td>14.4 %</td>\n",
       "      <td>57.4 %</td>\n",
       "      <td>28.2 %</td>\n",
       "      <td>.238</td>\n",
       "      <td>.364</td>\n",
       "      <td>.682</td>\n",
       "      <td>390</td>\n",
       "      <td>Dodgers</td>\n",
       "    </tr>\n",
       "    <tr>\n",
       "      <th>2013</th>\n",
       "      <th>Dodgers</th>\n",
       "      <td>115</td>\n",
       "      <td>390</td>\n",
       "      <td>448</td>\n",
       "      <td>93</td>\n",
       "      <td>65</td>\n",
       "      <td>17</td>\n",
       "      <td>1</td>\n",
       "      <td>10</td>\n",
       "      <td>43</td>\n",
       "      <td>52</td>\n",
       "      <td>...</td>\n",
       "      <td>40.7 %</td>\n",
       "      <td>27.6 %</td>\n",
       "      <td>14.6 %</td>\n",
       "      <td>49.7 %</td>\n",
       "      <td>35.7 %</td>\n",
       "      <td>.191</td>\n",
       "      <td>.254</td>\n",
       "      <td>.577</td>\n",
       "      <td>283</td>\n",
       "      <td>Dodgers</td>\n",
       "    </tr>\n",
       "  </tbody>\n",
       "</table>\n",
       "<p>5 rows × 129 columns</p>\n",
       "</div>"
      ],
      "text/plain": [
       "                          (base_stats, G) (base_stats, AB) (base_stats, PA)  \\\n",
       "Player     Season Team                                                        \n",
       "A.J. Ellis 2009   Dodgers               8               10               10   \n",
       "           2010   Dodgers              44              108              128   \n",
       "           2011   Dodgers              31               85              103   \n",
       "           2012   Dodgers             133              423              505   \n",
       "           2013   Dodgers             115              390              448   \n",
       "\n",
       "                          (base_stats, H) (base_stats, 1B) (base_stats, 2B)  \\\n",
       "Player     Season Team                                                        \n",
       "A.J. Ellis 2009   Dodgers               1                1                0   \n",
       "           2010   Dodgers              30               25                5   \n",
       "           2011   Dodgers              23               19                1   \n",
       "           2012   Dodgers             114               80               20   \n",
       "           2013   Dodgers              93               65               17   \n",
       "\n",
       "                          (base_stats, 3B) (base_stats, HR) (base_stats, R)  \\\n",
       "Player     Season Team                                                        \n",
       "A.J. Ellis 2009   Dodgers                0                0               0   \n",
       "           2010   Dodgers                0                0               6   \n",
       "           2011   Dodgers                1                2               8   \n",
       "           2012   Dodgers                1               13              44   \n",
       "           2013   Dodgers                1               10              43   \n",
       "\n",
       "                          (base_stats, RBI)    ...    (bb_stats, Cent%)  \\\n",
       "Player     Season Team                         ...                        \n",
       "A.J. Ellis 2009   Dodgers                 1    ...               44.4 %   \n",
       "           2010   Dodgers                16    ...               44.2 %   \n",
       "           2011   Dodgers                11    ...               32.9 %   \n",
       "           2012   Dodgers                52    ...               37.7 %   \n",
       "           2013   Dodgers                52    ...               40.7 %   \n",
       "\n",
       "                          (bb_stats, Oppo%) (bb_stats, Soft%)  \\\n",
       "Player     Season Team                                          \n",
       "A.J. Ellis 2009   Dodgers            22.2 %            33.3 %   \n",
       "           2010   Dodgers            27.4 %            27.4 %   \n",
       "           2011   Dodgers            25.7 %            12.9 %   \n",
       "           2012   Dodgers            30.1 %            14.4 %   \n",
       "           2013   Dodgers            27.6 %            14.6 %   \n",
       "\n",
       "                          (bb_stats, Med%) (bb_stats, Hard%) next_avg  \\\n",
       "Player     Season Team                                                  \n",
       "A.J. Ellis 2009   Dodgers           55.6 %            11.1 %     .278   \n",
       "           2010   Dodgers           48.4 %            24.2 %     .271   \n",
       "           2011   Dodgers           58.6 %            28.6 %     .270   \n",
       "           2012   Dodgers           57.4 %            28.2 %     .238   \n",
       "           2013   Dodgers           49.7 %            35.7 %     .191   \n",
       "\n",
       "                          next_slg next_ops next_ab next_team  \n",
       "Player     Season Team                                         \n",
       "A.J. Ellis 2009   Dodgers     .324     .687     108   Dodgers  \n",
       "           2010   Dodgers     .376     .769      85   Dodgers  \n",
       "           2011   Dodgers     .414     .786     423   Dodgers  \n",
       "           2012   Dodgers     .364     .682     390   Dodgers  \n",
       "           2013   Dodgers     .254     .577     283   Dodgers  \n",
       "\n",
       "[5 rows x 129 columns]"
      ]
     },
     "execution_count": 142,
     "metadata": {},
     "output_type": "execute_result"
    }
   ],
   "source": [
    "pro_df.head(5)"
   ]
  },
  {
   "cell_type": "code",
   "execution_count": 143,
   "metadata": {
    "collapsed": true
   },
   "outputs": [],
   "source": [
    "# Conver percent columns to floats\n",
    "#percent_cols = ['Hard%', 'LD%', 'GB%', 'FB%', 'IFFB%', 'IFH%', 'BUH%', 'Pull%', 'Cent%', 'Oppo%', 'Soft%', 'Med%']\n",
    "pro_df[('bb_stats', 'Hard%')] = percent_to_float(pro_df[('bb_stats', 'Hard%')])\n",
    "pro_df.loc[:, ('bb_stats', 'Med%')] = percent_to_float(pro_df[('bb_stats', 'Med%')])\n",
    "pro_df.loc[:, ('bb_stats', 'LD%')] = percent_to_float(pro_df[('bb_stats', 'LD%')])\n",
    "pro_df.loc[:, ('bb_stats', 'GB%')] = percent_to_float(pro_df[('bb_stats', 'GB%')])\n",
    "pro_df.loc[:, ('bb_stats', 'FB%')] = percent_to_float(pro_df[('bb_stats', 'FB%')])\n",
    "pro_df.loc[:, ('bb_stats', 'IFFB%')] = percent_to_float(pro_df[('bb_stats', 'IFFB%')])\n",
    "pro_df.loc[:, ('bb_stats', 'IFH%')] = percent_to_float(pro_df[('bb_stats', 'IFH%')])\n",
    "pro_df.loc[:, ('bb_stats', 'BUH%')] = percent_to_float(pro_df[('bb_stats', 'BUH%')])\n",
    "pro_df.loc[:, ('bb_stats', 'Pull%')] = percent_to_float(pro_df[('bb_stats', 'Pull%')])\n",
    "pro_df.loc[:, ('bb_stats', 'Cent%')] = percent_to_float(pro_df[('bb_stats', 'Cent%')])\n",
    "pro_df.loc[:, ('bb_stats', 'Oppo%')] = percent_to_float(pro_df[('bb_stats', 'Oppo%')])\n",
    "pro_df.loc[:, ('bb_stats', 'Soft%')] = percent_to_float(pro_df[('bb_stats', 'Soft%')])\n",
    "pro_df.loc[:, ('bb_stats', 'HR/FB')] = percent_to_float(pro_df[('bb_stats', 'HR/FB')])\n",
    "pro_df.loc[:, ('adv_hitting_stats', 'K%')] = percent_to_float(pro_df[('adv_hitting_stats', 'K%')])\n",
    "pro_df.loc[:, ('plate_disc_stats', 'O-Swing%')] = percent_to_float(pro_df[('plate_disc_stats', 'O-Swing%')])\n",
    "pro_df.loc[:, ('plate_disc_stats', 'Z-Swing%')] = percent_to_float(pro_df[('plate_disc_stats', 'Z-Swing%')])\n",
    "pro_df.loc[:, ('plate_disc_stats', 'Swing%')] = percent_to_float(pro_df[('plate_disc_stats', 'Swing%')])\n",
    "pro_df.loc[:, ('plate_disc_stats', 'O-Contact%')] = percent_to_float(pro_df[('plate_disc_stats', 'O-Contact%')])\n",
    "pro_df.loc[:, ('plate_disc_stats', 'Z-Contact%')] = percent_to_float(pro_df[('plate_disc_stats', 'Z-Contact%')])\n",
    "pro_df.loc[:, ('plate_disc_stats', 'Zone%')] = percent_to_float(pro_df[('plate_disc_stats', 'Zone%')])\n",
    "pro_df.loc[:, ('plate_disc_stats', 'Contact%')] = percent_to_float(pro_df[('plate_disc_stats', 'Contact%')])\n",
    "pro_df.loc[:, ('plate_disc_stats', 'F-Strike%')] = percent_to_float(pro_df[('plate_disc_stats', 'F-Strike%')])\n",
    "pro_df.loc[:, ('plate_disc_stats', 'SwStr%')] = percent_to_float(pro_df[('plate_disc_stats', 'SwStr%')])\n"
   ]
  },
  {
   "cell_type": "code",
   "execution_count": 144,
   "metadata": {
    "collapsed": false
   },
   "outputs": [
    {
     "data": {
      "text/plain": [
       "(4268, 129)"
      ]
     },
     "execution_count": 144,
     "metadata": {},
     "output_type": "execute_result"
    }
   ],
   "source": [
    "pro_df.shape"
   ]
  },
  {
   "cell_type": "code",
   "execution_count": 145,
   "metadata": {
    "collapsed": true
   },
   "outputs": [],
   "source": [
    "# Filter by At bats greater than 350\n",
    "filtered_abs = pro_df[pd.to_numeric(first_df[('base_stats', 'AB')]) > 250]\n",
    "filtered_abs = filtered_abs[pd.to_numeric(pro_df['next_ab']) > 350]"
   ]
  },
  {
   "cell_type": "code",
   "execution_count": 146,
   "metadata": {
    "collapsed": false
   },
   "outputs": [
    {
     "data": {
      "text/plain": [
       "(1044, 129)"
      ]
     },
     "execution_count": 146,
     "metadata": {},
     "output_type": "execute_result"
    }
   ],
   "source": [
    "filtered_abs.shape"
   ]
  },
  {
   "cell_type": "code",
   "execution_count": 147,
   "metadata": {
    "collapsed": true
   },
   "outputs": [],
   "source": [
    "# Do not include Total rows\n",
    "filtered_abs = filtered_abs[filtered_abs.index.get_level_values(1) != 'Total']"
   ]
  },
  {
   "cell_type": "code",
   "execution_count": 148,
   "metadata": {
    "collapsed": true
   },
   "outputs": [],
   "source": [
    "# Drop Adam Eaton and Chris Young because their data was messed up\n",
    "filtered_abs = filtered_abs[filtered_abs.index.get_level_values(0) != 'Adam Eaton']\n",
    "filtered_abs = filtered_abs[filtered_abs.index.get_level_values(0) != 'Chris Young']\n"
   ]
  },
  {
   "cell_type": "code",
   "execution_count": 149,
   "metadata": {
    "collapsed": true
   },
   "outputs": [],
   "source": [
    "filtered_abs_post_2001 = filtered_abs"
   ]
  },
  {
   "cell_type": "code",
   "execution_count": 150,
   "metadata": {
    "collapsed": true
   },
   "outputs": [],
   "source": [
    "filtered_abs_post_2001[('bb_stats', 'Hard_diff')] = diff_column(filtered_abs_post_2001, filtered_abs_post_2001[('bb_stats', 'Hard%')], 0)\n",
    "filtered_abs_post_2001[('bb_stats', 'Med_diff')] = diff_column(filtered_abs_post_2001, filtered_abs_post_2001[('bb_stats', 'Med%')], 0)\n",
    "filtered_abs_post_2001[('bb_stats', 'LD_diff')] = diff_column(filtered_abs_post_2001, filtered_abs_post_2001[('bb_stats', 'LD%')], 0)\n",
    "filtered_abs_post_2001[('bb_stats', 'GB_diff')] = diff_column(filtered_abs_post_2001, filtered_abs_post_2001[('bb_stats', 'GB%')], 0)\n",
    "filtered_abs_post_2001[('bb_stats', 'FB_diff')] = diff_column(filtered_abs_post_2001, filtered_abs_post_2001[('bb_stats', 'FB%')], 0)\n",
    "filtered_abs_post_2001[('bb_stats', 'IFFB_diff')] = diff_column(filtered_abs_post_2001, filtered_abs_post_2001[('bb_stats', 'IFFB%')], 0)\n",
    "filtered_abs_post_2001[('bb_stats', 'IFH_diff')] = diff_column(filtered_abs_post_2001, filtered_abs_post_2001[('bb_stats', 'IFH%')], 0)\n",
    "filtered_abs_post_2001[('bb_stats', 'BUH_diff')] = diff_column(filtered_abs_post_2001, filtered_abs_post_2001[('bb_stats', 'BUH%')], 0)\n",
    "filtered_abs_post_2001[('bb_stats', 'Pull_diff')] = diff_column(filtered_abs_post_2001, filtered_abs_post_2001[('bb_stats', 'Pull%')], 0)\n",
    "filtered_abs_post_2001[('bb_stats', 'Cent_diff')] = diff_column(filtered_abs_post_2001, filtered_abs_post_2001[('bb_stats', 'Cent%')], 0)\n",
    "filtered_abs_post_2001[('bb_stats', 'Oppo_diff')] = diff_column(filtered_abs_post_2001, filtered_abs_post_2001[('bb_stats', 'Oppo%')], 0)\n",
    "filtered_abs_post_2001[('bb_stats', 'Soft_diff')] = diff_column(filtered_abs_post_2001, filtered_abs_post_2001[('bb_stats', 'Soft%')], 0)\n",
    "filtered_abs_post_2001[('bb_stats', 'HR/FB_diff')] = diff_column(filtered_abs_post_2001, filtered_abs_post_2001[('bb_stats', 'HR/FB')], 0)\n",
    "filtered_abs_post_2001[('adv_hitting_stats', 'K_per_diff')] = diff_column(filtered_abs_post_2001, filtered_abs_post_2001[('adv_hitting_stats', 'K%')], 0)\n",
    "filtered_abs_post_2001[('base_stats', 'avg_diff')] = diff_column(filtered_abs_post_2001, (filtered_abs_post_2001[('base_stats', 'AVG')]).astype(float), 0)\n"
   ]
  },
  {
   "cell_type": "code",
   "execution_count": 151,
   "metadata": {
    "collapsed": false
   },
   "outputs": [
    {
     "data": {
      "text/plain": [
       "Player           Season  Team     \n",
       "A.J. Ellis       2012    Dodgers      .238\n",
       "A.J. Pierzynski  2009    White Sox    .270\n",
       "                 2010    White Sox    .287\n",
       "                 2011    White Sox    .278\n",
       "                 2012    White Sox    .272\n",
       "Name: next_avg, dtype: object"
      ]
     },
     "execution_count": 151,
     "metadata": {},
     "output_type": "execute_result"
    }
   ],
   "source": [
    "filtered_abs_post_2001['next_avg'].head(5)"
   ]
  },
  {
   "cell_type": "code",
   "execution_count": 152,
   "metadata": {
    "collapsed": true
   },
   "outputs": [],
   "source": [
    "for c in filtered_abs_post_2001.columns:\n",
    "    if c[0:4] != 'next':\n",
    "        filtered_abs_post_2001 = filtered_abs_post_2001.rename(columns={c: str(c[0] + '_' + c[1])})"
   ]
  },
  {
   "cell_type": "markdown",
   "metadata": {},
   "source": [
    "## Try Out Some Engineered Features"
   ]
  },
  {
   "cell_type": "code",
   "execution_count": 153,
   "metadata": {
    "collapsed": true
   },
   "outputs": [],
   "source": [
    "filtered_abs_post_2001['extreme_pull'] = (filtered_abs_post_2001['bb_stats_Pull%'] > .45).astype(float)"
   ]
  },
  {
   "cell_type": "code",
   "execution_count": 154,
   "metadata": {
    "collapsed": true
   },
   "outputs": [],
   "source": [
    "filtered_abs_post_2001['sprayer'] = (abs(filtered_abs_post_2001['bb_stats_Pull%'] - filtered_abs_post_2001['bb_stats_Oppo%']) < .1).astype(float)"
   ]
  },
  {
   "cell_type": "code",
   "execution_count": 155,
   "metadata": {
    "collapsed": true
   },
   "outputs": [],
   "source": [
    "filtered_abs_post_2001['hh_contact'] = filtered_abs_post_2001['bb_stats_Hard%'] * filtered_abs_post_2001['plate_disc_stats_Contact%']"
   ]
  },
  {
   "cell_type": "code",
   "execution_count": 156,
   "metadata": {
    "collapsed": true
   },
   "outputs": [],
   "source": [
    "filtered_abs_post_2001['fb%_hr/fb'] = filtered_abs_post_2001['bb_stats_FB%'] * filtered_abs_post_2001['bb_stats_HR/FB']"
   ]
  },
  {
   "cell_type": "code",
   "execution_count": 157,
   "metadata": {
    "collapsed": true
   },
   "outputs": [],
   "source": [
    "filtered_abs_post_2001['hard_med'] = (2 * filtered_abs_post_2001['bb_stats_Hard%']) + (.5 * filtered_abs_post_2001['bb_stats_Med%'])"
   ]
  },
  {
   "cell_type": "code",
   "execution_count": 158,
   "metadata": {
    "collapsed": true
   },
   "outputs": [],
   "source": [
    "filtered_abs_post_2001['extreme_high_soft'] = (filtered_abs_post_2001['bb_stats_Soft%'] > .25).astype(float)"
   ]
  },
  {
   "cell_type": "code",
   "execution_count": 159,
   "metadata": {
    "collapsed": true
   },
   "outputs": [],
   "source": [
    "filtered_abs_post_2001['extreme_ifh'] = (filtered_abs_post_2001['bb_stats_IFH%'] > .105).astype(float)"
   ]
  },
  {
   "cell_type": "code",
   "execution_count": 160,
   "metadata": {
    "collapsed": true
   },
   "outputs": [],
   "source": [
    "filtered_abs_post_2001['extreme_low_soft'] = (filtered_abs_post_2001['bb_stats_Soft%'] < .135).astype(float)"
   ]
  },
  {
   "cell_type": "code",
   "execution_count": 161,
   "metadata": {
    "collapsed": true
   },
   "outputs": [],
   "source": [
    "#filtered_abs_post_2001['swing_med'] = (2 * filtered_abs_post_2001['bb_stats_Hard%']) + (.5 * filtered_abs_post_2001['bb_stats_Med%'])"
   ]
  },
  {
   "cell_type": "code",
   "execution_count": 162,
   "metadata": {
    "collapsed": true
   },
   "outputs": [],
   "source": [
    "filtered_abs_post_2001['hh_contact_swing'] = filtered_abs_post_2001['bb_stats_Hard%'] * filtered_abs_post_2001['plate_disc_stats_Contact%'] * filtered_abs_post_2001['plate_disc_stats_Swing%'] "
   ]
  },
  {
   "cell_type": "code",
   "execution_count": 163,
   "metadata": {
    "collapsed": true
   },
   "outputs": [],
   "source": [
    "filtered_abs_post_2001['hard_med_contact_swing'] = filtered_abs_post_2001['hard_med'] * filtered_abs_post_2001['plate_disc_stats_Contact%'] * filtered_abs_post_2001['plate_disc_stats_Swing%'] "
   ]
  },
  {
   "cell_type": "code",
   "execution_count": 164,
   "metadata": {
    "collapsed": true
   },
   "outputs": [],
   "source": [
    "filtered_abs_post_2001['hh_babip'] = filtered_abs_post_2001['bb_stats_Hard%'] / filtered_abs_post_2001['adv_hitting_stats_BABIP'].astype('float')"
   ]
  },
  {
   "cell_type": "code",
   "execution_count": 165,
   "metadata": {
    "collapsed": true
   },
   "outputs": [],
   "source": [
    "filtered_abs_post_2001['pull_fb'] = filtered_abs_post_2001['bb_stats_Pull%'] / filtered_abs_post_2001['bb_stats_FB%'].astype('float')"
   ]
  },
  {
   "cell_type": "code",
   "execution_count": 166,
   "metadata": {
    "collapsed": true
   },
   "outputs": [],
   "source": [
    "filtered_abs_post_2001['hard_ld'] = filtered_abs_post_2001['bb_stats_Hard%'] / filtered_abs_post_2001['bb_stats_LD%'].astype('float')"
   ]
  },
  {
   "cell_type": "code",
   "execution_count": 226,
   "metadata": {
    "collapsed": true
   },
   "outputs": [],
   "source": [
    "feature_cols = (['adv_hitting_stats_K%', 'bb_stats_LD%', 'bb_stats_FB%', 'bb_stats_GB/FB', 'bb_stats_IFFB%', 'bb_stats_HR/FB',\n",
    "                 'bb_stats_IFH%', 'bb_stats_Cent%', 'bb_stats_Oppo%', 'bb_stats_Soft%', 'bb_stats_Hard%', \n",
    "                 'bb_stats_Hard_diff', 'plate_disc_stats_Swing%', 'bb_stats_Pull%',\n",
    "                 'plate_disc_stats_O-Contact%', 'plate_disc_stats_Z-Contact%',\n",
    "                 'plate_disc_stats_Zone%', 'adv_hitting_stats_Spd', 'extreme_pull', \n",
    "                 'sprayer', 'hh_contact', 'fb%_hr/fb', 'hard_med', 'extreme_low_soft', 'extreme_high_soft',\n",
    "                 'extreme_ifh', 'hh_contact_swing', 'hard_med_contact_swing', 'hh_babip', 'pull_fb', 'hard_ld'])"
   ]
  },
  {
   "cell_type": "code",
   "execution_count": 168,
   "metadata": {
    "collapsed": false
   },
   "outputs": [],
   "source": [
    "clean = filtered_abs_post_2001.dropna()"
   ]
  },
  {
   "cell_type": "code",
   "execution_count": 169,
   "metadata": {
    "collapsed": false
   },
   "outputs": [],
   "source": [
    "base = clean.loc[:, []]"
   ]
  },
  {
   "cell_type": "code",
   "execution_count": 170,
   "metadata": {
    "collapsed": false
   },
   "outputs": [],
   "source": [
    "# The baseline value we are trying to beat\n",
    "X_baseline = clean['base_stats_AVG']\n",
    "X_baseline;"
   ]
  },
  {
   "cell_type": "code",
   "execution_count": 171,
   "metadata": {
    "collapsed": false
   },
   "outputs": [
    {
     "data": {
      "text/plain": [
       "(692,)"
      ]
     },
     "execution_count": 171,
     "metadata": {},
     "output_type": "execute_result"
    }
   ],
   "source": [
    "# The output\n",
    "y = clean.loc[:, 'next_avg']\n",
    "y = y.astype('float')\n",
    "y.shape"
   ]
  },
  {
   "cell_type": "markdown",
   "metadata": {},
   "source": [
    "## Forward Selection to Find the Best Features"
   ]
  },
  {
   "cell_type": "code",
   "execution_count": 227,
   "metadata": {
    "collapsed": false
   },
   "outputs": [],
   "source": [
    "def find_best_predictor(current, predictors, y):\n",
    "    best_p = 0\n",
    "    best_mse = 1\n",
    "    model_ps = []\n",
    "    curr_cols = ['next_team']\n",
    "    while True:\n",
    "        p = []\n",
    "        for pred in predictors:\n",
    "            cols = curr_cols[:]\n",
    "            cols.append(pred)\n",
    "            X = clean.loc[:, cols]\n",
    "            #X.iloc[:, 1:] = X.iloc[:, 1:].astype('float')\n",
    "            team = patsy.dmatrix('next_team',\n",
    "                             data=X,\n",
    "                             return_type='dataframe')\n",
    "            X.drop(['next_team'], axis=1, inplace=True)\n",
    "            X = X.astype('float')\n",
    "            X = X.join(team)\n",
    "            X2 = sm.add_constant(X)\n",
    "            est = sm.OLS(y, X2)\n",
    "            est2 = est.fit()\n",
    "            p.append((pred, est2.mse_resid, est2.pvalues[0]))\n",
    "        ps = sorted(p, key=lambda x: x[1])\n",
    "        print(ps[0])\n",
    "        mse = ps[0][1]\n",
    "        if mse < best_mse:\n",
    "            best_mse = mse\n",
    "            curr_cols.append(ps[0][0])\n",
    "            model_ps.append(ps[0][0])\n",
    "            predictors.pop(predictors.index(ps[0][0]))\n",
    "        else:\n",
    "            return model_ps\n",
    "    return model_ps"
   ]
  },
  {
   "cell_type": "code",
   "execution_count": 228,
   "metadata": {
    "collapsed": false
   },
   "outputs": [
    {
     "name": "stdout",
     "output_type": "stream",
     "text": [
      "('adv_hitting_stats_K%', 0.00065275381356226297, 3.6612823673128546e-27)\n",
      "('bb_stats_IFFB%', 0.00061548677171260045, 4.1456945043146922e-31)\n",
      "('extreme_pull', 0.00059829698139964342, 1.7505377669421009e-27)\n",
      "('hh_contact_swing', 0.00058012378066447999, 1.132659264920999e-29)\n",
      "('adv_hitting_stats_Spd', 0.00057169159941559446, 3.2570295756050042e-30)\n",
      "('bb_stats_Hard_diff', 0.00055999382408617739, 1.1388083769730985e-30)\n",
      "('bb_stats_FB%', 0.00055654162619533151, 5.2469690084101976e-24)\n",
      "('bb_stats_HR/FB', 0.00055307613181240604, 7.3266417944620526e-23)\n",
      "('bb_stats_Oppo%', 0.0005507875538209011, 2.4781597377823589e-23)\n",
      "('sprayer', 0.0005481366891442438, 7.7105883265263447e-24)\n",
      "('plate_disc_stats_O-Contact%', 0.00054665471978055204, 2.7085442715333052e-07)\n",
      "('extreme_ifh', 0.00054563076835549942, 2.4215629820510581e-07)\n",
      "('bb_stats_IFH%', 0.00054418103917967266, 1.7601848202070263e-07)\n",
      "('hh_babip', 0.00054453034616861189, 2.173790068468646e-07)\n"
     ]
    }
   ],
   "source": [
    "best_cols = find_best_predictor([], feature_cols, y)"
   ]
  },
  {
   "cell_type": "code",
   "execution_count": 229,
   "metadata": {
    "collapsed": true
   },
   "outputs": [],
   "source": [
    "best_cols.append('next_team')"
   ]
  },
  {
   "cell_type": "code",
   "execution_count": 230,
   "metadata": {
    "collapsed": true
   },
   "outputs": [],
   "source": [
    "X = clean.loc[:, best_cols]"
   ]
  },
  {
   "cell_type": "markdown",
   "metadata": {},
   "source": [
    "## Check for Correlations Between Variables"
   ]
  },
  {
   "cell_type": "code",
   "execution_count": 231,
   "metadata": {
    "collapsed": false,
    "scrolled": true
   },
   "outputs": [
    {
     "data": {
      "text/plain": [
       "<matplotlib.axes._subplots.AxesSubplot at 0x125216668>"
      ]
     },
     "execution_count": 231,
     "metadata": {},
     "output_type": "execute_result"
    },
    {
     "data": {
      "image/png": "[encoded data removed]",
      "text/plain": [
       "<matplotlib.figure.Figure at 0x12521ae10>"
      ]
     },
     "metadata": {},
     "output_type": "display_data"
    }
   ],
   "source": [
    "sns.heatmap(X.iloc[:, :len(best_cols)].corr())\n"
   ]
  },
  {
   "cell_type": "code",
   "execution_count": 232,
   "metadata": {
    "collapsed": false
   },
   "outputs": [],
   "source": [
    "team = patsy.dmatrix('next_team',\n",
    "                     data=X,\n",
    "                     return_type='dataframe')"
   ]
  },
  {
   "cell_type": "code",
   "execution_count": 233,
   "metadata": {
    "collapsed": true
   },
   "outputs": [],
   "source": [
    "X.drop(['next_team'], axis=1, inplace=True)\n",
    "\n",
    "X = X.join(team)"
   ]
  },
  {
   "cell_type": "markdown",
   "metadata": {},
   "source": [
    "## Test Out the Model"
   ]
  },
  {
   "cell_type": "code",
   "execution_count": 234,
   "metadata": {
    "collapsed": false
   },
   "outputs": [
    {
     "name": "stdout",
     "output_type": "stream",
     "text": [
      "[ -1.81533095e-01  -9.25545690e-02  -1.02305836e-02   2.26795354e-01\n",
      "   2.23167871e-03  -7.56288780e-02  -3.07852192e-02   5.47760113e-02\n",
      "   3.42711785e-02  -1.29843195e-03   3.49875703e-02   1.14045038e-02\n",
      "  -7.24227152e-02  -1.52655666e-16   1.48675851e-03  -1.70648309e-02\n",
      "   4.64962324e-03   2.86881320e-03   4.66422334e-03   8.19731384e-03\n",
      "  -4.77302716e-03   3.68795744e-03   1.96427634e-03  -5.50799393e-03\n",
      "  -1.26222812e-02   4.86564532e-03   4.36055218e-03   7.78427114e-03\n",
      "   1.10922887e-03  -1.50301614e-02  -7.97512337e-03  -5.01317369e-03\n",
      "   4.67471662e-03  -8.17291970e-03   9.49479569e-03   3.75643939e-03\n",
      "   2.58257785e-02  -1.17598885e-02   2.05597670e-02  -6.35756645e-03\n",
      "  -1.47939855e-02  -7.07772893e-03]\n",
      "0.388670342378\n"
     ]
    },
    {
     "data": {
      "text/plain": [
       "<matplotlib.text.Text at 0x124ff5668>"
      ]
     },
     "execution_count": 234,
     "metadata": {},
     "output_type": "execute_result"
    },
    {
     "data": {
      "image/png": "[encoded data removed]",
      "text/plain": [
       "<matplotlib.figure.Figure at 0x1252d2390>"
      ]
     },
     "metadata": {},
     "output_type": "display_data"
    }
   ],
   "source": [
    "lr = LinearRegression()\n",
    "X_train, X_test, y_train, y_test = train_test_split(X, y, test_size=0.3)\n",
    "\n",
    "lr.fit(X_train, y_train)\n",
    "\n",
    "\n",
    "#print(actual)\n",
    "print(lr.coef_)\n",
    "print(lr.score(X,y))\n",
    "# plt.scatter(y_test.reset_index()['value_stats_WAR'].tolist(), (lr.predict(X_test)))\n",
    "# plt.scatter(y_test.reset_index()['base_stats_AVG'].tolist(), (lr.predict(X_test)))\n",
    "# plt.scatter(y_test.reset_index()['adv_hitting_stats_SLG'].tolist(), (lr.predict(X_test)))\n",
    "plt.scatter(y_test.reset_index()['next_avg'].tolist(), (lr.predict(X_test)))\n",
    "\n",
    "plt.plot([y.min(), y.max()], [y.min(), y.max()], 'k--', lw=4)\n",
    "plt.xlabel('Actual')\n",
    "plt.ylabel('Predicted')\n",
    "plt.title('Player Slugging Percentage: Actual vs. Predicted')\n",
    "#plt.scatter(X_test[X_test.columns[[3]]], y_test)\n",
    "#print(pd.DataFrame(y).join(lr.predict(y)))"
   ]
  },
  {
   "cell_type": "code",
   "execution_count": 235,
   "metadata": {
    "collapsed": false
   },
   "outputs": [
    {
     "name": "stdout",
     "output_type": "stream",
     "text": [
      "                                      prev      pred  actual  base_diff  \\\n",
      "Player             Season Team                                            \n",
      "Bryce Harper       2014   Nationals  0.273  0.263095   0.330     -0.057   \n",
      "Melky Cabrera      2011   Royals     0.305  0.285346   0.346     -0.041   \n",
      "Mike Napoli        2010   Angels     0.238  0.260050   0.320     -0.082   \n",
      "Carlos Ruiz        2011   Phillies   0.283  0.266702   0.325     -0.042   \n",
      "Matt Kemp          2010   Dodgers    0.249  0.266134   0.324     -0.075   \n",
      "Jose Altuve        2013   Astros     0.283  0.283610   0.341     -0.058   \n",
      "Paul Konerko       2010   White Sox  0.312  0.242745   0.300      0.012   \n",
      "Russell Martin     2013   Pirates    0.226  0.235409   0.290     -0.064   \n",
      "Andrew McCutchen   2011   Pirates    0.259  0.275590   0.327     -0.068   \n",
      "Ryan Braun         2010   Brewers    0.304  0.281755   0.332     -0.028   \n",
      "Chris Johnson      2012   Astros     0.279  0.270813   0.321     -0.042   \n",
      "Nelson Cruz        2014   Orioles    0.271  0.252338   0.302     -0.031   \n",
      "Adrian Gonzalez    2010   Padres     0.298  0.288709   0.338     -0.040   \n",
      "Jose Altuve        2015   Astros     0.313  0.288710   0.338     -0.025   \n",
      "Torii Hunter       2011   Angels     0.262  0.263732   0.313     -0.051   \n",
      "Aramis Ramirez     2010   Cubs       0.241  0.257477   0.306     -0.065   \n",
      "Alex Rios          2011   White Sox  0.227  0.255490   0.304     -0.077   \n",
      "Lorenzo Cain       2014   Royals     0.301  0.258686   0.307     -0.006   \n",
      "Jose Bautista      2010   Blue Jays  0.260  0.254800   0.302     -0.042   \n",
      "Michael Young      2010   Rangers    0.284  0.290953   0.338     -0.054   \n",
      "Andrew McCutchen   2012   Pirates    0.327  0.269996   0.317      0.010   \n",
      "                   2013   Pirates    0.317  0.267111   0.314      0.003   \n",
      "Joe Mauer          2012   Twins      0.319  0.277909   0.324     -0.005   \n",
      "Joey Votto         2011   Reds       0.309  0.291187   0.337     -0.028   \n",
      "Billy Butler       2011   Royals     0.291  0.267457   0.313     -0.022   \n",
      "Freddie Freeman    2012   Braves     0.259  0.273637   0.319     -0.060   \n",
      "David Ortiz        2010   Red Sox    0.270  0.264347   0.309     -0.039   \n",
      "Michael Brantley   2013   Indians    0.284  0.282875   0.327     -0.043   \n",
      "Daniel Murphy      2015   Mets       0.281  0.304747   0.347     -0.066   \n",
      "Paul Konerko       2011   White Sox  0.300  0.256626   0.298      0.002   \n",
      "...                                    ...       ...     ...        ...   \n",
      "Michael Cuddyer    2011   Twins      0.284  0.301015   0.260      0.024   \n",
      "Brendan Ryan       2011   Mariners   0.248  0.235946   0.194      0.054   \n",
      "Jay Bruce          2013   Reds       0.262  0.259308   0.217      0.045   \n",
      "Hanley Ramirez     2014   Dodgers    0.283  0.291590   0.249      0.034   \n",
      "Ichiro Suzuki      2014   Yankees    0.284  0.272762   0.229      0.055   \n",
      "Carl Crawford      2010   Rays       0.307  0.298897   0.255      0.052   \n",
      "Howie Kendrick     2015   Dodgers    0.295  0.299346   0.255      0.040   \n",
      "Alex Avila         2011   Tigers     0.295  0.287563   0.243      0.052   \n",
      "Rickie Weeks Jr.   2011   Brewers    0.269  0.275140   0.230      0.039   \n",
      "Joe Panik          2015   Giants     0.312  0.285830   0.239      0.073   \n",
      "Adam LaRoche       2014   Nationals  0.259  0.254750   0.207      0.052   \n",
      "Mark Teixeira      2015   Yankees    0.255  0.252012   0.204      0.051   \n",
      "Russell Martin     2011   Yankees    0.237  0.259119   0.211      0.026   \n",
      "Adeiny Hechavarria 2015   Marlins    0.281  0.284428   0.236      0.045   \n",
      "Allen Craig        2013   Cardinals  0.315  0.285529   0.237      0.078   \n",
      "Pablo Sandoval     2014   Giants     0.279  0.294117   0.245      0.034   \n",
      "Alex Avila         2013   Tigers     0.227  0.267357   0.218      0.009   \n",
      "Drew Stubbs        2011   Reds       0.243  0.262632   0.213      0.030   \n",
      "Mike Napoli        2011   Rangers    0.320  0.277041   0.227      0.093   \n",
      "Chris Davis        2013   Orioles    0.286  0.248130   0.196      0.090   \n",
      "Adam Dunn          2010   Nationals  0.260  0.211632   0.159      0.101   \n",
      "David Murphy       2012   Rangers    0.304  0.273963   0.220      0.084   \n",
      "Derek Norris       2015   Padres     0.250  0.240240   0.186      0.064   \n",
      "Danny Espinosa     2015   Nationals  0.240  0.264431   0.209      0.031   \n",
      "Brennan Boesch     2011   Tigers     0.283  0.296136   0.240      0.043   \n",
      "Melvin Upton Jr.   2012   Rays       0.246  0.242890   0.184      0.062   \n",
      "Casey McGehee      2010   Brewers    0.285  0.282117   0.223      0.062   \n",
      "Ryan Zimmerman     2015   Nationals  0.249  0.280414   0.218      0.031   \n",
      "Darwin Barney      2012   Cubs       0.254  0.275234   0.208      0.046   \n",
      "Victor Martinez    2014   Tigers     0.335  0.318733   0.245      0.090   \n",
      "\n",
      "                                         diff  \n",
      "Player             Season Team                 \n",
      "Bryce Harper       2014   Nationals -0.066905  \n",
      "Melky Cabrera      2011   Royals    -0.060654  \n",
      "Mike Napoli        2010   Angels    -0.059950  \n",
      "Carlos Ruiz        2011   Phillies  -0.058298  \n",
      "Matt Kemp          2010   Dodgers   -0.057866  \n",
      "Jose Altuve        2013   Astros    -0.057390  \n",
      "Paul Konerko       2010   White Sox -0.057255  \n",
      "Russell Martin     2013   Pirates   -0.054591  \n",
      "Andrew McCutchen   2011   Pirates   -0.051410  \n",
      "Ryan Braun         2010   Brewers   -0.050245  \n",
      "Chris Johnson      2012   Astros    -0.050187  \n",
      "Nelson Cruz        2014   Orioles   -0.049662  \n",
      "Adrian Gonzalez    2010   Padres    -0.049291  \n",
      "Jose Altuve        2015   Astros    -0.049290  \n",
      "Torii Hunter       2011   Angels    -0.049268  \n",
      "Aramis Ramirez     2010   Cubs      -0.048523  \n",
      "Alex Rios          2011   White Sox -0.048510  \n",
      "Lorenzo Cain       2014   Royals    -0.048314  \n",
      "Jose Bautista      2010   Blue Jays -0.047200  \n",
      "Michael Young      2010   Rangers   -0.047047  \n",
      "Andrew McCutchen   2012   Pirates   -0.047004  \n",
      "                   2013   Pirates   -0.046889  \n",
      "Joe Mauer          2012   Twins     -0.046091  \n",
      "Joey Votto         2011   Reds      -0.045813  \n",
      "Billy Butler       2011   Royals    -0.045543  \n",
      "Freddie Freeman    2012   Braves    -0.045363  \n",
      "David Ortiz        2010   Red Sox   -0.044653  \n",
      "Michael Brantley   2013   Indians   -0.044125  \n",
      "Daniel Murphy      2015   Mets      -0.042253  \n",
      "Paul Konerko       2011   White Sox -0.041374  \n",
      "...                                       ...  \n",
      "Michael Cuddyer    2011   Twins      0.041015  \n",
      "Brendan Ryan       2011   Mariners   0.041946  \n",
      "Jay Bruce          2013   Reds       0.042308  \n",
      "Hanley Ramirez     2014   Dodgers    0.042590  \n",
      "Ichiro Suzuki      2014   Yankees    0.043762  \n",
      "Carl Crawford      2010   Rays       0.043897  \n",
      "Howie Kendrick     2015   Dodgers    0.044346  \n",
      "Alex Avila         2011   Tigers     0.044563  \n",
      "Rickie Weeks Jr.   2011   Brewers    0.045140  \n",
      "Joe Panik          2015   Giants     0.046830  \n",
      "Adam LaRoche       2014   Nationals  0.047750  \n",
      "Mark Teixeira      2015   Yankees    0.048012  \n",
      "Russell Martin     2011   Yankees    0.048119  \n",
      "Adeiny Hechavarria 2015   Marlins    0.048428  \n",
      "Allen Craig        2013   Cardinals  0.048529  \n",
      "Pablo Sandoval     2014   Giants     0.049117  \n",
      "Alex Avila         2013   Tigers     0.049357  \n",
      "Drew Stubbs        2011   Reds       0.049632  \n",
      "Mike Napoli        2011   Rangers    0.050041  \n",
      "Chris Davis        2013   Orioles    0.052130  \n",
      "Adam Dunn          2010   Nationals  0.052632  \n",
      "David Murphy       2012   Rangers    0.053963  \n",
      "Derek Norris       2015   Padres     0.054240  \n",
      "Danny Espinosa     2015   Nationals  0.055431  \n",
      "Brennan Boesch     2011   Tigers     0.056136  \n",
      "Melvin Upton Jr.   2012   Rays       0.058890  \n",
      "Casey McGehee      2010   Brewers    0.059117  \n",
      "Ryan Zimmerman     2015   Nationals  0.062414  \n",
      "Darwin Barney      2012   Cubs       0.067234  \n",
      "Victor Martinez    2014   Tigers     0.073733  \n",
      "\n",
      "[692 rows x 5 columns]\n"
     ]
    }
   ],
   "source": [
    "#print(X)\n",
    "Results = pd.DataFrame(X).copy()\n",
    "pred = lr.predict(X)\n",
    "#print((pred))\n",
    "#print(pd.DataFrame(Results))\n",
    "Results['prev'] = filtered_abs_post_2001['base_stats_AVG'].astype('float')\n",
    "Results['pred'] = pred\n",
    "Results['actual'] = y\n",
    "Results['base_diff'] = Results['prev'] - Results['actual']\n",
    "Results['diff'] = Results['pred'] - Results['actual']\n",
    "print(Results.loc[:, 'prev' : 'diff'].sort_values(by='diff'))\n"
   ]
  },
  {
   "cell_type": "markdown",
   "metadata": {},
   "source": [
    "## Add Some Regularization"
   ]
  },
  {
   "cell_type": "code",
   "execution_count": 236,
   "metadata": {
    "collapsed": false,
    "scrolled": true
   },
   "outputs": [
    {
     "name": "stdout",
     "output_type": "stream",
     "text": [
      "0.449262680545\n"
     ]
    },
    {
     "data": {
      "text/plain": [
       "<matplotlib.text.Text at 0x124fcfef0>"
      ]
     },
     "execution_count": 236,
     "metadata": {},
     "output_type": "execute_result"
    },
    {
     "data": {
      "image/png": "[encoded data removed]",
      "text/plain": [
       "<matplotlib.figure.Figure at 0x124fde4e0>"
      ]
     },
     "metadata": {},
     "output_type": "display_data"
    }
   ],
   "source": [
    "from sklearn.linear_model import RidgeCV\n",
    "rcv = RidgeCV(cv=5)\n",
    "rcv.fit(X, y)\n",
    "print(rcv.score(X_test, y_test))\n",
    "ridge_coeffs = rcv.coef_\n",
    "\n",
    "plt.figure(figsize=(6,6))\n",
    "plt.scatter(y_test.reset_index()['next_avg'].tolist(), (lr.predict(X_test)))\n",
    "\n",
    "plt.plot([y.min(), y.max()], [y.min(), y.max()], 'k--', lw=4)\n",
    "plt.xlabel('Actual')\n",
    "plt.ylabel('Predicted')\n",
    "plt.title('Player Slugging Percentage: Actual vs. Predicted')"
   ]
  },
  {
   "cell_type": "code",
   "execution_count": null,
   "metadata": {
    "collapsed": true
   },
   "outputs": [],
   "source": []
  },
  {
   "cell_type": "code",
   "execution_count": 243,
   "metadata": {
    "collapsed": false
   },
   "outputs": [
    {
     "name": "stdout",
     "output_type": "stream",
     "text": [
      "0.465503725158\n"
     ]
    }
   ],
   "source": [
    "from sklearn.linear_model import ElasticNetCV\n",
    "encv = ElasticNetCV(cv=5)\n",
    "encv.fit(X, y)\n",
    "print(encv.score(X_test, y_test))\n",
    "encv_coeffs = encv.coef_"
   ]
  },
  {
   "cell_type": "code",
   "execution_count": 244,
   "metadata": {
    "collapsed": false
   },
   "outputs": [
    {
     "data": {
      "text/plain": [
       "0.46485395443216171"
      ]
     },
     "execution_count": 244,
     "metadata": {},
     "output_type": "execute_result"
    }
   ],
   "source": [
    "from sklearn.linear_model import LassoCV\n",
    "lcv = LassoCV(cv=5)\n",
    "lcv.fit(X, y)\n",
    "lcv.score(X_test, y_test)"
   ]
  },
  {
   "cell_type": "markdown",
   "metadata": {},
   "source": [
    "## The Model"
   ]
  },
  {
   "cell_type": "code",
   "execution_count": 245,
   "metadata": {
    "collapsed": false
   },
   "outputs": [
    {
     "data": {
      "text/plain": [
       "[<matplotlib.axis.XTick at 0x12524ecf8>,\n",
       " <matplotlib.axis.XTick at 0x124f8b898>,\n",
       " <matplotlib.axis.XTick at 0x124f81320>,\n",
       " <matplotlib.axis.XTick at 0x124f6beb8>,\n",
       " <matplotlib.axis.XTick at 0x124f6d588>,\n",
       " <matplotlib.axis.XTick at 0x124f8a5f8>,\n",
       " <matplotlib.axis.XTick at 0x124f6acf8>,\n",
       " <matplotlib.axis.XTick at 0x124f6a0f0>,\n",
       " <matplotlib.axis.XTick at 0x124f692b0>,\n",
       " <matplotlib.axis.XTick at 0x124f68320>,\n",
       " <matplotlib.axis.XTick at 0x124f69160>,\n",
       " <matplotlib.axis.XTick at 0x124f68c18>,\n",
       " <matplotlib.axis.XTick at 0x124f6d3c8>,\n",
       " <matplotlib.axis.XTick at 0x124f89780>]"
      ]
     },
     "execution_count": 245,
     "metadata": {},
     "output_type": "execute_result"
    },
    {
     "data": {
      "image/png": "[encoded data removed]",
      "text/plain": [
       "<matplotlib.figure.Figure at 0x124fd26a0>"
      ]
     },
     "metadata": {},
     "output_type": "display_data"
    }
   ],
   "source": [
    "fig,ax = plt.subplots()\n",
    "ax.bar(range(len(encv_coeffs[0:len(best_cols)])), encv_coeffs[0:len(best_cols)])\n",
    "ax.set_xticklabels(list(X.columns)[0:len(best_cols)], rotation=90)\n",
    "ax.xaxis.set_ticks(range(len(best_cols)))\n"
   ]
  },
  {
   "cell_type": "markdown",
   "metadata": {},
   "source": [
    "## Compare My Model with Baseline"
   ]
  },
  {
   "cell_type": "code",
   "execution_count": 252,
   "metadata": {
    "collapsed": false
   },
   "outputs": [],
   "source": [
    "from IPython.core.display import display, HTML\n",
    "pd.set_option('display.max_columns', 500)\n",
    "pd.set_option('display.width', 1000)"
   ]
  },
  {
   "cell_type": "code",
   "execution_count": 253,
   "metadata": {
    "collapsed": false
   },
   "outputs": [
    {
     "name": "stdout",
     "output_type": "stream",
     "text": [
      "                                         prev      pred  actual  base_diff      diff\n",
      "Player                Season Team                                                   \n",
      "Mike Napoli           2010   Angels     0.238  0.258102   0.320     -0.082 -0.061898\n",
      "Wilson Ramos          2015   Nationals  0.229  0.270618   0.307     -0.078 -0.036382\n",
      "Alex Rios             2011   White Sox  0.227  0.258812   0.304     -0.077 -0.045188\n",
      "Matt Kemp             2010   Dodgers    0.249  0.269739   0.324     -0.075 -0.054261\n",
      "Mike Moustakas        2014   Royals     0.212  0.255342   0.284     -0.072 -0.028658\n",
      "Michael Cuddyer       2012   Rockies    0.260  0.293739   0.331     -0.071 -0.037261\n",
      "Eric Hosmer           2012   Royals     0.232  0.272129   0.302     -0.070 -0.029871\n",
      "Andrew McCutchen      2011   Pirates    0.259  0.275520   0.327     -0.068 -0.051480\n",
      "Chris Davis           2014   Orioles    0.196  0.234773   0.262     -0.066 -0.027227\n",
      "Kurt Suzuki           2013   Nationals  0.222  0.280256   0.288     -0.066 -0.007744\n",
      "Daniel Murphy         2015   Mets       0.281  0.308165   0.347     -0.066 -0.038835\n",
      "Aramis Ramirez        2010   Cubs       0.241  0.261396   0.306     -0.065 -0.044604\n",
      "Jhonny Peralta        2012   Tigers     0.239  0.277851   0.303     -0.064 -0.025149\n",
      "Russell Martin        2013   Pirates    0.226  0.236873   0.290     -0.064 -0.053127\n",
      "Jason Kipnis          2014   Indians    0.240  0.269739   0.303     -0.063 -0.033261\n",
      "Justin Morneau        2013   Twins      0.259  0.282336   0.319     -0.060 -0.036664\n",
      "Freddie Freeman       2012   Braves     0.259  0.274902   0.319     -0.060 -0.044098\n",
      "Jose Altuve           2013   Astros     0.283  0.283687   0.341     -0.058 -0.057313\n",
      "Bryce Harper          2014   Nationals  0.273  0.263744   0.330     -0.057 -0.066256\n",
      "Yunel Escobar         2014   Rays       0.258  0.286301   0.314     -0.056 -0.027699\n",
      "Drew Stubbs           2013   Indians    0.233  0.256151   0.289     -0.056 -0.032849\n",
      "Michael Young         2010   Rangers    0.284  0.292060   0.338     -0.054 -0.045940\n",
      "Colby Rasmus          2012   Blue Jays  0.223  0.254694   0.276     -0.053 -0.021306\n",
      "Anthony Rizzo         2013   Cubs       0.233  0.262572   0.286     -0.053 -0.023428\n",
      "David Wright          2011   Mets       0.254  0.276472   0.306     -0.052 -0.029528\n",
      "Mark Reynolds         2015   Cardinals  0.230  0.262638   0.282     -0.052 -0.019362\n",
      "Ian Desmond           2015   Nationals  0.233  0.255161   0.285     -0.052 -0.029839\n",
      "Jarrod Saltalamacchia 2012   Red Sox    0.222  0.245548   0.273     -0.051 -0.027452\n",
      "Austin Jackson        2011   Tigers     0.249  0.274346   0.300     -0.051 -0.025654\n",
      "Torii Hunter          2011   Angels     0.262  0.262782   0.313     -0.051 -0.050218\n",
      "...                                       ...       ...     ...        ...       ...\n",
      "Dan Uggla             2010   Marlins    0.287  0.244628   0.233      0.054  0.011628\n",
      "Paul Konerko          2012   White Sox  0.298  0.259732   0.244      0.054  0.015732\n",
      "Brendan Ryan          2011   Mariners   0.248  0.234827   0.194      0.054  0.040827\n",
      "Jason Castro          2013   Astros     0.276  0.257101   0.222      0.054  0.035101\n",
      "Ichiro Suzuki         2014   Yankees    0.284  0.265731   0.229      0.055  0.036731\n",
      "Nelson Cruz           2010   Rangers    0.318  0.284750   0.263      0.055  0.021750\n",
      "Vernon Wells          2010   Blue Jays  0.273  0.258883   0.218      0.055  0.040883\n",
      "Chris Johnson         2013   Braves     0.321  0.260802   0.263      0.058 -0.002198\n",
      "Alcides Escobar       2012   Royals     0.293  0.265862   0.234      0.059  0.031862\n",
      "Josh Hamilton         2010   Rangers    0.359  0.289769   0.298      0.061 -0.008231\n",
      "Michael Young         2011   Rangers    0.338  0.299502   0.277      0.061  0.022502\n",
      "Casey McGehee         2010   Brewers    0.285  0.281642   0.223      0.062  0.058642\n",
      "Melvin Upton Jr.      2012   Rays       0.246  0.242805   0.184      0.062  0.058805\n",
      "Hanley Ramirez        2013   Dodgers    0.345  0.297317   0.283      0.062  0.014317\n",
      "Carlos Beltran        2013   Cardinals  0.296  0.258409   0.233      0.063  0.025409\n",
      "Jason Heyward         2015   Cardinals  0.293  0.272876   0.230      0.063  0.042876\n",
      "Jayson Werth          2010   Phillies   0.296  0.268405   0.232      0.064  0.036405\n",
      "Derek Norris          2015   Padres     0.250  0.239998   0.186      0.064  0.053998\n",
      "Omar Infante          2013   Tigers     0.318  0.258270   0.252      0.066  0.006270\n",
      "Jeff Keppinger        2012   Rays       0.325  0.270737   0.253      0.072  0.017737\n",
      "Joe Panik             2015   Giants     0.312  0.287626   0.239      0.073  0.048626\n",
      "Casey Kotchman        2011   Rays       0.306  0.269359   0.229      0.077  0.040359\n",
      "Allen Craig           2013   Cardinals  0.315  0.284740   0.237      0.078  0.047740\n",
      "David DeJesus         2010   Royals     0.318  0.257058   0.240      0.078  0.017058\n",
      "David Murphy          2012   Rangers    0.304  0.271338   0.220      0.084  0.051338\n",
      "Bryce Harper          2015   Nationals  0.330  0.271405   0.243      0.087  0.028405\n",
      "Chris Davis           2013   Orioles    0.286  0.248801   0.196      0.090  0.052801\n",
      "Victor Martinez       2014   Tigers     0.335  0.315890   0.245      0.090  0.070890\n",
      "Mike Napoli           2011   Rangers    0.320  0.277131   0.227      0.093  0.050131\n",
      "Adam Dunn             2010   Nationals  0.260  0.218905   0.159      0.101  0.059905\n",
      "\n",
      "[692 rows x 5 columns]\n",
      "Model MSE: 0.000511388264567\n",
      "Copy MSE: 0.000925244219653\n"
     ]
    }
   ],
   "source": [
    "ResultsENCV = pd.DataFrame(X).copy()\n",
    "pred = encv.predict(X)\n",
    "#print((pred))\n",
    "#print(pd.DataFrame(Results))\n",
    "ResultsENCV['prev'] = filtered_abs_post_2001['base_stats_AVG'].astype('float')\n",
    "ResultsENCV['pred'] = pred\n",
    "ResultsENCV['actual'] = y\n",
    "ResultsENCV['base_diff'] = ResultsENCV['prev'] - ResultsENCV['actual']\n",
    "\n",
    "ResultsENCV['diff'] = ResultsENCV['pred'] - ResultsENCV['actual']\n",
    "print(ResultsENCV.loc[:, 'prev' : 'diff'].sort_values(by='base_diff'))\n",
    "print('Model MSE: ' + str(sum(ResultsENCV['diff'] * ResultsENCV['diff'])/ResultsENCV['diff'].shape[0]))\n",
    "print('Copy MSE: ' + str(sum(ResultsENCV['base_diff'] * ResultsENCV['base_diff'])/ResultsENCV['base_diff'].shape[0]))\n"
   ]
  },
  {
   "cell_type": "markdown",
   "metadata": {
    "collapsed": true
   },
   "source": [
    "Looks like we did fairly well!"
   ]
  },
  {
   "cell_type": "code",
   "execution_count": null,
   "metadata": {
    "collapsed": true
   },
   "outputs": [],
   "source": []
  }
 ],
 "metadata": {
  "anaconda-cloud": {},
  "kernelspec": {
   "display_name": "Python [conda env:metis_appy]",
   "language": "python",
   "name": "conda-env-metis_appy-py"
  },
  "language_info": {
   "codemirror_mode": {
    "name": "ipython",
    "version": 3
   },
   "file_extension": ".py",
   "mimetype": "text/x-python",
   "name": "python",
   "nbconvert_exporter": "python",
   "pygments_lexer": "ipython3",
   "version": "3.6.0"
  }
 },
 "nbformat": 4,
 "nbformat_minor": 1
}
